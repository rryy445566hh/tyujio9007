{
 "cells": [
  {
   "cell_type": "code",
   "execution_count": 1,
   "metadata": {},
   "outputs": [
    {
     "name": "stdout",
     "output_type": "stream",
     "text": [
      "https://github.com/zhouba\n"
     ]
    }
   ],
   "source": [
    "# 创建一个包含 10 个元素的列表，每个元素是一个字典对象  \n",
    "inst = [  \n",
    "    {\"name\": \"张三\", \"id\": \"20180001\", \"github_url\": \"https://github.com/zhangsan\"},  \n",
    "    {\"name\": \"李四\", \"id\": \"20180002\", \"github_url\": \"https://github.com/lisi\"},  \n",
    "    {\"name\": \"王五\", \"id\": \"20180003\", \"github_url\": \"https://github.com/wangwu\"},  \n",
    "    {\"name\": \"赵六\", \"id\": \"20180004\", \"github_url\": \"https://github.com/zhaoliu\"},  \n",
    "    {\"name\": \"孙七\", \"id\": \"20180005\", \"github_url\": \"https://github.com/sunqi\"},  \n",
    "    {\"name\": \"周八\", \"id\": \"20180006\", \"github_url\": \"https://github.com/zhouba\"},  \n",
    "    {\"name\": \"吴九\", \"id\": \"20180007\", \"github_url\": \"https://github.com/wujiu\"},  \n",
    "    {\"name\": \"郑十\", \"id\": \"20180008\", \"github_url\": \"https://github.com/zhengshi\"},  \n",
    "    {\"name\": \"陈十一\", \"id\": \"20180009\", \"github_url\": \"https://github.com/chenshiyi\"},  \n",
    "    {\"name\": \"萧十二\", \"id\": \"20180010\", \"github_url\": \"https://github.com/xiaoshier\"}  \n",
    "]\n",
    "#使用for循环筛选出指定姓名的同学的github仓库地址\n",
    "trget_=\"周八\"\n",
    "for student in inst :\n",
    "        if student [\"name\"]==trget_:\n",
    "            print (student[\"github_url\"])"
   ]
  },
  {
   "cell_type": "code",
   "execution_count": 2,
   "metadata": {},
   "outputs": [],
   "source": [
    "def get_repo_by_name(name,student):\n",
    "  for i in data:\n",
    "   if i[\"姓名\"]==name:\n",
    "     return i [\"github仓库地址\"]\n",
    "\n",
    "\n"
   ]
  },
  {
   "cell_type": "code",
   "execution_count": 3,
   "metadata": {},
   "outputs": [],
   "source": [
    "import requests  \n",
    "from bs4 import BeautifulSoup  \n",
    "  \n",
    "def get_commit_info(repo_url):  \n",
    "    response = requests.get(repo_url)  \n",
    "    soup = BeautifulSoup(response.text, 'html.parser')  \n",
    "      \n",
    "    commit_count = soup.find('a', {'class': 'social-count'}).text\n",
    "    commit_count =int(commit_count.replace(',','')) \n",
    "     \n",
    "  \n",
    "    commit_date = soup.find('relative-time').text \n",
    "    commit_date = commit_date.split('') [0]\n",
    "\n",
    "  \n",
    "    return commit_count, commit_date"
   ]
  },
  {
   "cell_type": "code",
   "execution_count": 4,
   "metadata": {},
   "outputs": [],
   "source": [
    "get_commit_=('https://github.com/rryy445566hh/tyuji9007')"
   ]
  },
  {
   "cell_type": "code",
   "execution_count": 6,
   "metadata": {},
   "outputs": [],
   "source": [
    "def 函数名称(参数1='',参数2=''):\n",
    "    print(参数1,参数2)"
   ]
  },
  {
   "cell_type": "code",
   "execution_count": null,
   "metadata": {},
   "outputs": [],
   "source": []
  }
 ],
 "metadata": {
  "kernelspec": {
   "display_name": "Python 3.10.8 64-bit",
   "language": "python",
   "name": "python3"
  },
  "language_info": {
   "codemirror_mode": {
    "name": "ipython",
    "version": 3
   },
   "file_extension": ".py",
   "mimetype": "text/x-python",
   "name": "python",
   "nbconvert_exporter": "python",
   "pygments_lexer": "ipython3",
   "version": "3.10.8"
  },
  "orig_nbformat": 4,
  "vscode": {
   "interpreter": {
    "hash": "26de051ba29f2982a8de78e945f0abaf191376122a1563185a90213a26c5da77"
   }
  }
 },
 "nbformat": 4,
 "nbformat_minor": 2
}
