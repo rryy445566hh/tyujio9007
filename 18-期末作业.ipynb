{
 "cells": [
  {
   "cell_type": "code",
   "execution_count": 34,
   "metadata": {},
   "outputs": [],
   "source": [
    "import mytools\n",
    "import pandas as pd\n",
    "import plotly.express as px"
   ]
  },
  {
   "cell_type": "code",
   "execution_count": 14,
   "metadata": {},
   "outputs": [],
   "source": [
    "# 计算单变量统计分析\n",
    "import pandas as pd\n",
    "from scipy import stats\n",
    "\n",
    "# 打开数据文件\n",
    "file_path = R'C:\\Users\\lenovo\\Desktop\\tyujio9007\\data\\movie_data_cleaned.csv'\n",
    "df_movies = pd.read_csv(file_path)\n"
   ]
  },
  {
   "cell_type": "code",
   "execution_count": 2,
   "metadata": {},
   "outputs": [
    {
     "name": "stdout",
     "output_type": "stream",
     "text": [
      "均值： 7.20\n",
      "均值在置信水平0.95下的置信区间为:  (7.171337577138237, 7.2214184794700635)\n"
     ]
    }
   ],
   "source": [
    "# 计算均值和标准误\n",
    "mean = df_movies['average'].mean()\n",
    "std_error = stats.sem(df_movies['average'])\n",
    "# 设置置信水平\n",
    "confidence_level = 0.95\n",
    "# 设置自由度\n",
    "df = len(df_movies['average']) - 1\n",
    "# 计算置信区间\n",
    "confidence_interval = stats.t.interval(confidence_level,df,loc=mean,\n",
    "scale=std_error)\n",
    "# 输出结果\n",
    "print(F\"均值：{mean: .2f}\")\n",
    "print(F\"均值在置信水平{confidence_level}下的置信区间为: \",confidence_interval)"
   ]
  },
  {
   "cell_type": "code",
   "execution_count": 3,
   "metadata": {},
   "outputs": [],
   "source": [
    "#  使用sample函数实现随机抽取\n",
    "随机抽取100行得到的表 = df_movies.sample(100)"
   ]
  },
  {
   "cell_type": "code",
   "execution_count": 4,
   "metadata": {},
   "outputs": [
    {
     "name": "stdout",
     "output_type": "stream",
     "text": [
      "均值： 7.06\n",
      "均值在置信水平0.95下的置信区间为:  (6.807790157732335, 7.316209842267665)\n"
     ]
    }
   ],
   "source": [
    "# 再计算抽取样本的均值和置信区间\n",
    "mean = 随机抽取100行得到的表['average'].mean()\n",
    "std_error = stats.sem(随机抽取100行得到的表['average'])\n",
    "# 设置置信水平\n",
    "confidence_level = 0.95\n",
    "# 设置自由度\n",
    "df = len(随机抽取100行得到的表['average']) - 1\n",
    "# 计算置信区间\n",
    "confidence_interval = stats.t.interval(confidence_level, df, loc=mean,\n",
    "scale=std_error)\n",
    "# 输出结果\n",
    "print(F\"均值：{mean: .2f}\")\n",
    "print(F\"均值在置信水平{confidence_level}下的置信区间为: \", confidence_interval)"
   ]
  },
  {
   "cell_type": "code",
   "execution_count": 15,
   "metadata": {},
   "outputs": [
    {
     "data": {
      "text/plain": [
       "'弱相关'"
      ]
     },
     "execution_count": 15,
     "metadata": {},
     "output_type": "execute_result"
    }
   ],
   "source": [
    "#计算多变量统计分析\n",
    "import mytools\n",
    "mytools.相关系数判断(0.2056)"
   ]
  },
  {
   "cell_type": "code",
   "execution_count": 7,
   "metadata": {},
   "outputs": [
    {
     "data": {
      "text/plain": [
       "'弱相关'"
      ]
     },
     "execution_count": 7,
     "metadata": {},
     "output_type": "execute_result"
    }
   ],
   "source": [
    "mytools.相关系数判断(0.2056)"
   ]
  },
  {
   "cell_type": "code",
   "execution_count": 8,
   "metadata": {},
   "outputs": [],
   "source": [
    "数据表 = mytools.读取SPSS数据文件(R'C:\\Users\\lenovo\\Desktop\\tyujio9007\\data\\identity.sav',True)"
   ]
  },
  {
   "cell_type": "code",
   "execution_count": 9,
   "metadata": {},
   "outputs": [
    {
     "name": "stdout",
     "output_type": "stream",
     "text": [
      "tau_y系数: 0.0263 极弱相关或无相关\n",
      "年级          预科        大一        大二        大三        大四       All\n",
      "政治面貌                                                            \n",
      "团员    0.015029  0.300578  0.240462  0.108671  0.069364  0.734104\n",
      "党员    0.000000  0.017341  0.038150  0.050867  0.024277  0.130636\n",
      "群众    0.001156  0.032370  0.034682  0.030058  0.012717  0.110983\n",
      "其他    0.000000  0.004624  0.008092  0.009249  0.002312  0.024277\n",
      "All   0.016185  0.354913  0.321387  0.198844  0.108671  1.000000\n",
      "卡方值： 69.53, p值： 0.0000,自由度:12。\n",
      "拒绝虚无假设\n"
     ]
    },
    {
     "name": "stderr",
     "output_type": "stream",
     "text": [
      "c:\\Users\\lenovo\\Desktop\\tyujio9007\\mytools.py:62: FutureWarning: Series.__getitem__ treating keys as positions is deprecated. In a future version, integer keys will always be treated as labels (consistent with DataFrame behavior). To access a value by position, use `ser.iloc[pos]`\n",
      "  F_y = cft['All'][i]\n"
     ]
    }
   ],
   "source": [
    "mytools.两个无序类别变量的统计分析(数据表,'政治面貌','年级')"
   ]
  },
  {
   "cell_type": "code",
   "execution_count": 16,
   "metadata": {},
   "outputs": [
    {
     "data": {
      "text/plain": [
       "Index(['问卷编号', '调查员', '民族', '政治面貌', '年级', '您觉得自己是个典型的中国人吗',\n",
       "       '与世界其他国家的人相比中国人有自己的特点吗', '为公民，最基本的要求是爱自己的国家', '不管是汉族还是少数民族，都是中华民族的一员',\n",
       "       '您是否为为中华民族的历史文化而骄傲', '个人的前途与命运是与中华民族的命运息息相关', '您是否了解中华民族的传统节日',\n",
       "       '您是否了解中国历史、地理、政治等', '老实说，您觉得中国怎么样', '您认为中国有多少值得自豪的地方',\n",
       "       '您认为世界有多少比例的人尊重中国', '对您而言作为一名中国人有多重要', '会以中国人自豪吗', '会隐瞒身份吗', '会打多少分',\n",
       "       '国歌升起', '世博会', '中国传统文化', '发展信心', '你会为中国运动员呐喊助威', '遇到灾难时中国人应该伸出援手',\n",
       "       '你愿意加入其他国籍吗', '中国人要为祖国统一奋斗吗'],\n",
       "      dtype='object')"
      ]
     },
     "execution_count": 16,
     "metadata": {},
     "output_type": "execute_result"
    }
   ],
   "source": [
    "#计算多变量统计分析\n",
    "数据表 = mytools.读取SPSS数据文件(R'C:\\Users\\lenovo\\Desktop\\tyujio9007\\data\\国家认同数据清理后 .sav',True)\n",
    "数据表.columns"
   ]
  },
  {
   "cell_type": "code",
   "execution_count": 11,
   "metadata": {},
   "outputs": [
    {
     "data": {
      "text/html": [
       "<div>\n",
       "<style scoped>\n",
       "    .dataframe tbody tr th:only-of-type {\n",
       "        vertical-align: middle;\n",
       "    }\n",
       "\n",
       "    .dataframe tbody tr th {\n",
       "        vertical-align: top;\n",
       "    }\n",
       "\n",
       "    .dataframe thead th {\n",
       "        text-align: right;\n",
       "    }\n",
       "</style>\n",
       "<table border=\"1\" class=\"dataframe\">\n",
       "  <thead>\n",
       "    <tr style=\"text-align: right;\">\n",
       "      <th></th>\n",
       "      <th>政治面貌</th>\n",
       "      <th>团员</th>\n",
       "      <th>党员</th>\n",
       "      <th>群众</th>\n",
       "      <th>其他</th>\n",
       "      <th>All</th>\n",
       "    </tr>\n",
       "    <tr>\n",
       "      <th>年级</th>\n",
       "      <th>发展信心</th>\n",
       "      <th></th>\n",
       "      <th></th>\n",
       "      <th></th>\n",
       "      <th></th>\n",
       "      <th></th>\n",
       "    </tr>\n",
       "  </thead>\n",
       "  <tbody>\n",
       "    <tr>\n",
       "      <th rowspan=\"4\" valign=\"top\">预科</th>\n",
       "      <th>不清楚</th>\n",
       "      <td>0.006427</td>\n",
       "      <td>0.000000</td>\n",
       "      <td>0.000000</td>\n",
       "      <td>0.000000</td>\n",
       "      <td>0.006427</td>\n",
       "    </tr>\n",
       "    <tr>\n",
       "      <th>没信心</th>\n",
       "      <td>0.001285</td>\n",
       "      <td>0.000000</td>\n",
       "      <td>0.000000</td>\n",
       "      <td>0.000000</td>\n",
       "      <td>0.001285</td>\n",
       "    </tr>\n",
       "    <tr>\n",
       "      <th>担忧不好说</th>\n",
       "      <td>0.001285</td>\n",
       "      <td>0.000000</td>\n",
       "      <td>0.000000</td>\n",
       "      <td>0.000000</td>\n",
       "      <td>0.001285</td>\n",
       "    </tr>\n",
       "    <tr>\n",
       "      <th>很有信心</th>\n",
       "      <td>0.006427</td>\n",
       "      <td>0.000000</td>\n",
       "      <td>0.001285</td>\n",
       "      <td>0.000000</td>\n",
       "      <td>0.007712</td>\n",
       "    </tr>\n",
       "    <tr>\n",
       "      <th rowspan=\"4\" valign=\"top\">大一</th>\n",
       "      <th>不清楚</th>\n",
       "      <td>0.019280</td>\n",
       "      <td>0.001285</td>\n",
       "      <td>0.002571</td>\n",
       "      <td>0.000000</td>\n",
       "      <td>0.023136</td>\n",
       "    </tr>\n",
       "    <tr>\n",
       "      <th>没信心</th>\n",
       "      <td>0.006427</td>\n",
       "      <td>0.000000</td>\n",
       "      <td>0.000000</td>\n",
       "      <td>0.001285</td>\n",
       "      <td>0.007712</td>\n",
       "    </tr>\n",
       "    <tr>\n",
       "      <th>担忧不好说</th>\n",
       "      <td>0.080977</td>\n",
       "      <td>0.006427</td>\n",
       "      <td>0.012853</td>\n",
       "      <td>0.001285</td>\n",
       "      <td>0.101542</td>\n",
       "    </tr>\n",
       "    <tr>\n",
       "      <th>很有信心</th>\n",
       "      <td>0.185090</td>\n",
       "      <td>0.007712</td>\n",
       "      <td>0.017995</td>\n",
       "      <td>0.001285</td>\n",
       "      <td>0.212082</td>\n",
       "    </tr>\n",
       "    <tr>\n",
       "      <th rowspan=\"4\" valign=\"top\">大二</th>\n",
       "      <th>不清楚</th>\n",
       "      <td>0.011568</td>\n",
       "      <td>0.000000</td>\n",
       "      <td>0.003856</td>\n",
       "      <td>0.000000</td>\n",
       "      <td>0.015424</td>\n",
       "    </tr>\n",
       "    <tr>\n",
       "      <th>没信心</th>\n",
       "      <td>0.010283</td>\n",
       "      <td>0.008997</td>\n",
       "      <td>0.002571</td>\n",
       "      <td>0.000000</td>\n",
       "      <td>0.021851</td>\n",
       "    </tr>\n",
       "    <tr>\n",
       "      <th>担忧不好说</th>\n",
       "      <td>0.086118</td>\n",
       "      <td>0.008997</td>\n",
       "      <td>0.014139</td>\n",
       "      <td>0.001285</td>\n",
       "      <td>0.110540</td>\n",
       "    </tr>\n",
       "    <tr>\n",
       "      <th>很有信心</th>\n",
       "      <td>0.137532</td>\n",
       "      <td>0.016710</td>\n",
       "      <td>0.012853</td>\n",
       "      <td>0.005141</td>\n",
       "      <td>0.172237</td>\n",
       "    </tr>\n",
       "    <tr>\n",
       "      <th rowspan=\"4\" valign=\"top\">大三</th>\n",
       "      <th>不清楚</th>\n",
       "      <td>0.011568</td>\n",
       "      <td>0.005141</td>\n",
       "      <td>0.001285</td>\n",
       "      <td>0.000000</td>\n",
       "      <td>0.017995</td>\n",
       "    </tr>\n",
       "    <tr>\n",
       "      <th>没信心</th>\n",
       "      <td>0.006427</td>\n",
       "      <td>0.000000</td>\n",
       "      <td>0.006427</td>\n",
       "      <td>0.000000</td>\n",
       "      <td>0.012853</td>\n",
       "    </tr>\n",
       "    <tr>\n",
       "      <th>担忧不好说</th>\n",
       "      <td>0.034704</td>\n",
       "      <td>0.016710</td>\n",
       "      <td>0.014139</td>\n",
       "      <td>0.005141</td>\n",
       "      <td>0.070694</td>\n",
       "    </tr>\n",
       "    <tr>\n",
       "      <th>很有信心</th>\n",
       "      <td>0.057841</td>\n",
       "      <td>0.034704</td>\n",
       "      <td>0.006427</td>\n",
       "      <td>0.005141</td>\n",
       "      <td>0.104113</td>\n",
       "    </tr>\n",
       "    <tr>\n",
       "      <th rowspan=\"4\" valign=\"top\">大四</th>\n",
       "      <th>不清楚</th>\n",
       "      <td>0.001285</td>\n",
       "      <td>0.001285</td>\n",
       "      <td>0.002571</td>\n",
       "      <td>0.000000</td>\n",
       "      <td>0.005141</td>\n",
       "    </tr>\n",
       "    <tr>\n",
       "      <th>没信心</th>\n",
       "      <td>0.001285</td>\n",
       "      <td>0.000000</td>\n",
       "      <td>0.000000</td>\n",
       "      <td>0.000000</td>\n",
       "      <td>0.001285</td>\n",
       "    </tr>\n",
       "    <tr>\n",
       "      <th>担忧不好说</th>\n",
       "      <td>0.024422</td>\n",
       "      <td>0.008997</td>\n",
       "      <td>0.006427</td>\n",
       "      <td>0.000000</td>\n",
       "      <td>0.039846</td>\n",
       "    </tr>\n",
       "    <tr>\n",
       "      <th>很有信心</th>\n",
       "      <td>0.046272</td>\n",
       "      <td>0.015424</td>\n",
       "      <td>0.005141</td>\n",
       "      <td>0.000000</td>\n",
       "      <td>0.066838</td>\n",
       "    </tr>\n",
       "    <tr>\n",
       "      <th>All</th>\n",
       "      <th></th>\n",
       "      <td>0.736504</td>\n",
       "      <td>0.132391</td>\n",
       "      <td>0.110540</td>\n",
       "      <td>0.020566</td>\n",
       "      <td>1.000000</td>\n",
       "    </tr>\n",
       "  </tbody>\n",
       "</table>\n",
       "</div>"
      ],
      "text/plain": [
       "政治面貌             团员        党员        群众        其他       All\n",
       "年级  发展信心                                                   \n",
       "预科  不清楚    0.006427  0.000000  0.000000  0.000000  0.006427\n",
       "    没信心    0.001285  0.000000  0.000000  0.000000  0.001285\n",
       "    担忧不好说  0.001285  0.000000  0.000000  0.000000  0.001285\n",
       "    很有信心   0.006427  0.000000  0.001285  0.000000  0.007712\n",
       "大一  不清楚    0.019280  0.001285  0.002571  0.000000  0.023136\n",
       "    没信心    0.006427  0.000000  0.000000  0.001285  0.007712\n",
       "    担忧不好说  0.080977  0.006427  0.012853  0.001285  0.101542\n",
       "    很有信心   0.185090  0.007712  0.017995  0.001285  0.212082\n",
       "大二  不清楚    0.011568  0.000000  0.003856  0.000000  0.015424\n",
       "    没信心    0.010283  0.008997  0.002571  0.000000  0.021851\n",
       "    担忧不好说  0.086118  0.008997  0.014139  0.001285  0.110540\n",
       "    很有信心   0.137532  0.016710  0.012853  0.005141  0.172237\n",
       "大三  不清楚    0.011568  0.005141  0.001285  0.000000  0.017995\n",
       "    没信心    0.006427  0.000000  0.006427  0.000000  0.012853\n",
       "    担忧不好说  0.034704  0.016710  0.014139  0.005141  0.070694\n",
       "    很有信心   0.057841  0.034704  0.006427  0.005141  0.104113\n",
       "大四  不清楚    0.001285  0.001285  0.002571  0.000000  0.005141\n",
       "    没信心    0.001285  0.000000  0.000000  0.000000  0.001285\n",
       "    担忧不好说  0.024422  0.008997  0.006427  0.000000  0.039846\n",
       "    很有信心   0.046272  0.015424  0.005141  0.000000  0.066838\n",
       "All        0.736504  0.132391  0.110540  0.020566  1.000000"
      ]
     },
     "execution_count": 11,
     "metadata": {},
     "output_type": "execute_result"
    }
   ],
   "source": [
    "# 创建民族、年级和政治面貌的交互表\n",
    "cross_tab = pd.crosstab(index=[数据表['年级'], 数据表['发展信心']], \n",
    "                        columns=数据表['政治面貌'], \n",
    "                        margins=True, normalize=True)  # All 行和列的总和\n",
    "\n",
    "cross_tab"
   ]
  },
  {
   "cell_type": "code",
   "execution_count": 12,
   "metadata": {},
   "outputs": [
    {
     "data": {
      "text/plain": [
       "(9.47751673870667, 0.3036264221378934, 8)"
      ]
     },
     "execution_count": 12,
     "metadata": {},
     "output_type": "execute_result"
    }
   ],
   "source": [
    "from scipy import stats\n",
    "# 假设我们关注的是第二年级的学生（假设年级用数字“2”表示）\n",
    "specific_grade = '大四'\n",
    "\n",
    "# 筛选出特定年级的数据\n",
    "df_specific_grade = 数据表[数据表['年级'] == specific_grade]\n",
    "\n",
    "# 创建会打多少分和政治面貌的交互表\n",
    "cross_tab_specific_grade = pd.crosstab(df_specific_grade['会以中国人自豪吗'], df_specific_grade['政治面貌'])\n",
    "\n",
    "# 进行卡方检验\n",
    "chi2_grade, p_grade, dof_grade, expected_grade = stats.chi2_contingency(cross_tab_specific_grade)\n",
    "\n",
    "chi2_grade, p_grade, dof_grade, "
   ]
  },
  {
   "cell_type": "code",
   "execution_count": 13,
   "metadata": {},
   "outputs": [
    {
     "name": "stdout",
     "output_type": "stream",
     "text": [
      "tau_y系数: 0.0160 极弱相关或无相关\n",
      "会隐瞒身份吗      绝对不会     很可能不会   也许会也许不会       可能会       一定会       All\n",
      "政治面貌                                                              \n",
      "团员      0.454545  0.079545  0.034091  0.068182  0.011364  0.647727\n",
      "党员      0.159091  0.034091  0.011364  0.022727  0.000000  0.227273\n",
      "群众      0.079545  0.000000  0.034091  0.011364  0.000000  0.125000\n",
      "All     0.693182  0.113636  0.079545  0.102273  0.011364  1.000000\n",
      "卡方值： 8.05, p值： 0.4289,自由度:8。\n",
      "接受虚无假设\n"
     ]
    },
    {
     "name": "stderr",
     "output_type": "stream",
     "text": [
      "c:\\Users\\lenovo\\Desktop\\tyujio9007\\mytools.py:62: FutureWarning: Series.__getitem__ treating keys as positions is deprecated. In a future version, integer keys will always be treated as labels (consistent with DataFrame behavior). To access a value by position, use `ser.iloc[pos]`\n",
      "  F_y = cft['All'][i]\n"
     ]
    }
   ],
   "source": [
    "mytools.两个无序类别变量的统计分析(df_specific_grade,'政治面貌','会隐瞒身份吗')"
   ]
  },
  {
   "cell_type": "code",
   "execution_count": 18,
   "metadata": {},
   "outputs": [],
   "source": [
    "#数据清理与转换\n",
    "数据表 = mytools.读取SPSS数据文件(R'data\\demo (1).sav')"
   ]
  },
  {
   "cell_type": "code",
   "execution_count": 12,
   "metadata": {},
   "outputs": [],
   "source": [
    "#数据清理与转换\n",
    "数据表.rename(columns={\n",
    "    '@10、1您家里有':'家庭规模',\n",
    "    '@10、2口人，是':'代际',\n",
    "    '@3、您的婚姻状况：':'婚姻状况',\n",
    "    '@9、您的月收入大约是多少？':'月收入',\n",
    "    }, inplace=True)"
   ]
  },
  {
   "cell_type": "code",
   "execution_count": 13,
   "metadata": {},
   "outputs": [],
   "source": [
    "## 重复值处理\n",
    "数据表.drop_duplicates(subset=['序号'],keep='first',inplace=True)"
   ]
  },
  {
   "cell_type": "code",
   "execution_count": 14,
   "metadata": {},
   "outputs": [
    {
     "data": {
      "text/html": [
       "<div>\n",
       "<style scoped>\n",
       "    .dataframe tbody tr th:only-of-type {\n",
       "        vertical-align: middle;\n",
       "    }\n",
       "\n",
       "    .dataframe tbody tr th {\n",
       "        vertical-align: top;\n",
       "    }\n",
       "\n",
       "    .dataframe thead th {\n",
       "        text-align: right;\n",
       "    }\n",
       "</style>\n",
       "<table border=\"1\" class=\"dataframe\">\n",
       "  <thead>\n",
       "    <tr style=\"text-align: right;\">\n",
       "      <th></th>\n",
       "      <th>序号</th>\n",
       "      <th>@1、您的性别：</th>\n",
       "      <th>@2、您的年龄：</th>\n",
       "      <th>婚姻状况</th>\n",
       "      <th>@4、您的受教育程度是：</th>\n",
       "      <th>@5、您的政治面貌：</th>\n",
       "      <th>@7、您的信仰是：</th>\n",
       "      <th>@8、您的职业是：</th>\n",
       "      <th>月收入</th>\n",
       "      <th>家庭规模</th>\n",
       "      <th>...</th>\n",
       "      <th>@27、调研地点</th>\n",
       "      <th>@28、问卷编号</th>\n",
       "      <th>@30、问卷录入过程中其他需要说明的问题（若没</th>\n",
       "      <th>年龄段</th>\n",
       "      <th>每周上网时长</th>\n",
       "      <th>生活满意度</th>\n",
       "      <th>生活满意度区间</th>\n",
       "      <th>工作满意度</th>\n",
       "      <th>工作满意度区间</th>\n",
       "      <th>自尊</th>\n",
       "    </tr>\n",
       "  </thead>\n",
       "  <tbody>\n",
       "    <tr>\n",
       "      <th>0</th>\n",
       "      <td>94.0</td>\n",
       "      <td>1.0</td>\n",
       "      <td>58.0</td>\n",
       "      <td>NaN</td>\n",
       "      <td>未上过学</td>\n",
       "      <td>群众</td>\n",
       "      <td>佛教</td>\n",
       "      <td>牧民</td>\n",
       "      <td>NaN</td>\n",
       "      <td>NaN</td>\n",
       "      <td>...</td>\n",
       "      <td>郭卓村</td>\n",
       "      <td>GZ04</td>\n",
       "      <td>(空)</td>\n",
       "      <td>5.0</td>\n",
       "      <td>NaN</td>\n",
       "      <td>24.0</td>\n",
       "      <td>基本满意</td>\n",
       "      <td>25.0</td>\n",
       "      <td>基本满意</td>\n",
       "      <td>30.0</td>\n",
       "    </tr>\n",
       "    <tr>\n",
       "      <th>1</th>\n",
       "      <td>30.0</td>\n",
       "      <td>1.0</td>\n",
       "      <td>45.0</td>\n",
       "      <td>已婚</td>\n",
       "      <td>未上过学</td>\n",
       "      <td>群众</td>\n",
       "      <td>佛教</td>\n",
       "      <td>牧民</td>\n",
       "      <td>NaN</td>\n",
       "      <td>NaN</td>\n",
       "      <td>...</td>\n",
       "      <td>唐尕村</td>\n",
       "      <td>TG30</td>\n",
       "      <td>无</td>\n",
       "      <td>4.0</td>\n",
       "      <td>NaN</td>\n",
       "      <td>26.0</td>\n",
       "      <td>满意</td>\n",
       "      <td>26.0</td>\n",
       "      <td>满意</td>\n",
       "      <td>30.0</td>\n",
       "    </tr>\n",
       "  </tbody>\n",
       "</table>\n",
       "<p>2 rows × 89 columns</p>\n",
       "</div>"
      ],
      "text/plain": [
       "     序号  @1、您的性别：  @2、您的年龄： 婚姻状况 @4、您的受教育程度是： @5、您的政治面貌： @7、您的信仰是： @8、您的职业是：  \\\n",
       "0  94.0       1.0      58.0  NaN         未上过学         群众        佛教        牧民   \n",
       "1  30.0       1.0      45.0   已婚         未上过学         群众        佛教        牧民   \n",
       "\n",
       "   月收入  家庭规模  ... @27、调研地点 @28、问卷编号 @30、问卷录入过程中其他需要说明的问题（若没  年龄段 每周上网时长 生活满意度  \\\n",
       "0  NaN   NaN  ...      郭卓村     GZ04                     (空)  5.0    NaN  24.0   \n",
       "1  NaN   NaN  ...      唐尕村     TG30                       无  4.0    NaN  26.0   \n",
       "\n",
       "  生活满意度区间 工作满意度  工作满意度区间    自尊  \n",
       "0    基本满意  25.0     基本满意  30.0  \n",
       "1      满意  26.0       满意  30.0  \n",
       "\n",
       "[2 rows x 89 columns]"
      ]
     },
     "execution_count": 14,
     "metadata": {},
     "output_type": "execute_result"
    }
   ],
   "source": [
    "# 空白值处理\n",
    "# 查看变量是否存在空白值\n",
    "数据表[数据表.isnull().T.any()].head(2)\n",
    "# 数据表['婚姻状况'].isnull()"
   ]
  },
  {
   "cell_type": "code",
   "execution_count": 15,
   "metadata": {},
   "outputs": [],
   "source": [
    "# 对指定变量填充空白值\n",
    "数据表['婚姻状况'].fillna('已婚', inplace=True)\n",
    "数据表['月收入'].fillna('三千元以下', inplace=True)\n",
    "数据表['家庭规模'].fillna(6, inplace=True)"
   ]
  },
  {
   "cell_type": "code",
   "execution_count": 16,
   "metadata": {},
   "outputs": [],
   "source": [
    "# 数据表['月收入'].mean()\n",
    "# 数据表['代际'].mean()"
   ]
  },
  {
   "cell_type": "code",
   "execution_count": 17,
   "metadata": {},
   "outputs": [],
   "source": [
    "# 对特定值进行替换\n",
    "数据表['代际'].replace({'(空)':None}, inplace=True)\n",
    "数据表['代际'].fillna(3, inplace=True)"
   ]
  },
  {
   "cell_type": "code",
   "execution_count": 18,
   "metadata": {},
   "outputs": [
    {
     "data": {
      "text/html": [
       "<div>\n",
       "<style scoped>\n",
       "    .dataframe tbody tr th:only-of-type {\n",
       "        vertical-align: middle;\n",
       "    }\n",
       "\n",
       "    .dataframe tbody tr th {\n",
       "        vertical-align: top;\n",
       "    }\n",
       "\n",
       "    .dataframe thead th {\n",
       "        text-align: right;\n",
       "    }\n",
       "</style>\n",
       "<table border=\"1\" class=\"dataframe\">\n",
       "  <thead>\n",
       "    <tr style=\"text-align: right;\">\n",
       "      <th></th>\n",
       "      <th>序号</th>\n",
       "      <th>@1、您的性别：</th>\n",
       "      <th>@2、您的年龄：</th>\n",
       "      <th>婚姻状况</th>\n",
       "      <th>@4、您的受教育程度是：</th>\n",
       "      <th>@5、您的政治面貌：</th>\n",
       "      <th>@7、您的信仰是：</th>\n",
       "      <th>@8、您的职业是：</th>\n",
       "      <th>月收入</th>\n",
       "      <th>家庭规模</th>\n",
       "      <th>...</th>\n",
       "      <th>@27、调研地点</th>\n",
       "      <th>@28、问卷编号</th>\n",
       "      <th>@30、问卷录入过程中其他需要说明的问题（若没</th>\n",
       "      <th>年龄段</th>\n",
       "      <th>每周上网时长</th>\n",
       "      <th>生活满意度</th>\n",
       "      <th>生活满意度区间</th>\n",
       "      <th>工作满意度</th>\n",
       "      <th>工作满意度区间</th>\n",
       "      <th>自尊</th>\n",
       "    </tr>\n",
       "  </thead>\n",
       "  <tbody>\n",
       "    <tr>\n",
       "      <th>0</th>\n",
       "      <td>94.0</td>\n",
       "      <td>1.0</td>\n",
       "      <td>58.0</td>\n",
       "      <td>已婚</td>\n",
       "      <td>未上过学</td>\n",
       "      <td>群众</td>\n",
       "      <td>佛教</td>\n",
       "      <td>牧民</td>\n",
       "      <td>三千元以下</td>\n",
       "      <td>6.0</td>\n",
       "      <td>...</td>\n",
       "      <td>郭卓村</td>\n",
       "      <td>GZ04</td>\n",
       "      <td>(空)</td>\n",
       "      <td>5.0</td>\n",
       "      <td>NaN</td>\n",
       "      <td>24.0</td>\n",
       "      <td>基本满意</td>\n",
       "      <td>25.0</td>\n",
       "      <td>基本满意</td>\n",
       "      <td>30.0</td>\n",
       "    </tr>\n",
       "    <tr>\n",
       "      <th>1</th>\n",
       "      <td>30.0</td>\n",
       "      <td>1.0</td>\n",
       "      <td>45.0</td>\n",
       "      <td>已婚</td>\n",
       "      <td>未上过学</td>\n",
       "      <td>群众</td>\n",
       "      <td>佛教</td>\n",
       "      <td>牧民</td>\n",
       "      <td>三千元以下</td>\n",
       "      <td>6.0</td>\n",
       "      <td>...</td>\n",
       "      <td>唐尕村</td>\n",
       "      <td>TG30</td>\n",
       "      <td>无</td>\n",
       "      <td>4.0</td>\n",
       "      <td>NaN</td>\n",
       "      <td>26.0</td>\n",
       "      <td>满意</td>\n",
       "      <td>26.0</td>\n",
       "      <td>满意</td>\n",
       "      <td>30.0</td>\n",
       "    </tr>\n",
       "  </tbody>\n",
       "</table>\n",
       "<p>2 rows × 89 columns</p>\n",
       "</div>"
      ],
      "text/plain": [
       "     序号  @1、您的性别：  @2、您的年龄： 婚姻状况 @4、您的受教育程度是： @5、您的政治面貌： @7、您的信仰是： @8、您的职业是：  \\\n",
       "0  94.0       1.0      58.0   已婚         未上过学         群众        佛教        牧民   \n",
       "1  30.0       1.0      45.0   已婚         未上过学         群众        佛教        牧民   \n",
       "\n",
       "     月收入  家庭规模  ...  @27、调研地点 @28、问卷编号 @30、问卷录入过程中其他需要说明的问题（若没  年龄段 每周上网时长  \\\n",
       "0  三千元以下   6.0  ...       郭卓村     GZ04                     (空)  5.0    NaN   \n",
       "1  三千元以下   6.0  ...       唐尕村     TG30                       无  4.0    NaN   \n",
       "\n",
       "  生活满意度 生活满意度区间 工作满意度  工作满意度区间    自尊  \n",
       "0  24.0    基本满意  25.0     基本满意  30.0  \n",
       "1  26.0      满意  26.0       满意  30.0  \n",
       "\n",
       "[2 rows x 89 columns]"
      ]
     },
     "execution_count": 18,
     "metadata": {},
     "output_type": "execute_result"
    }
   ],
   "source": [
    "# 设定变量类型\n",
    "数据表.astype({'代际':'int'}).head(2)"
   ]
  },
  {
   "cell_type": "code",
   "execution_count": 20,
   "metadata": {},
   "outputs": [
    {
     "name": "stdout",
     "output_type": "stream",
     "text": [
      "使用标准差判断的异常值为：     value\n",
      "11    100\n",
      "使用IQR判断的异常值为：     value\n",
      "7      29\n",
      "8      30\n",
      "11    100\n"
     ]
    }
   ],
   "source": [
    "# 示例数据\n",
    "data = {'value': [10, 12, 12, 13, 12, 11, 10, 29, 30, 11, 10, 100]}\n",
    "df = pd.DataFrame(data)\n",
    "\n",
    "# 计算均值和标准差\n",
    "mean = df['value'].mean()\n",
    "std = df['value'].std()\n",
    "condition1 = (df['value'] < mean - 3 * std) | (df['value'] > mean + 3 * std)\n",
    "# 识别异常值\n",
    "outliers1 = df[condition1]\n",
    "print('使用标准差判断的异常值为：',outliers1)\n",
    "\n",
    "# 计算 IQR\n",
    "Q1 = df['value'].quantile(0.25)\n",
    "Q3 = df['value'].quantile(0.75)\n",
    "IQR = Q3 - Q1\n",
    "\n",
    "# 识别异常值\n",
    "outliers2 = df[(df['value'] < Q1 - 1.5 * IQR) | (df['value'] > Q3 + 1.5 * IQR)]\n",
    "print('使用IQR判断的异常值为：',outliers2)"
   ]
  },
  {
   "cell_type": "code",
   "execution_count": 19,
   "metadata": {},
   "outputs": [
    {
     "data": {
      "text/plain": [
       "Index(['序号', '@1、您的性别：', '@2、您的年龄：', '@3、您的婚姻状况：', '@4、您的受教育程度是：',\n",
       "       '@5、您的政治面貌：', '@7、您的信仰是：', '@8、您的职业是：', '@9、您的月收入大约是多少？', '@10、1您家里有',\n",
       "       '@10、2口人，是', '@10、3代人，家里有', '@10、4位老人，家里有', '@10、5个小孩，外出打工的人有___人。',\n",
       "       '@11、您平常是否通过电脑上网？', '@12、您平常是否通过手机上网？', '@13、您平时一周有几天通过电脑上网？',\n",
       "       '@14、您平时一周有几天通过手机上网？', '@15、1您每天通过手机上网的时间大概为', '@15、2分钟，您每天通过电脑上网的时间为',\n",
       "       '@15、3分钟，您每个月的手机话费为', '@15、4元，您家的宽带费为___元。',\n",
       "       '@16、互联网使用行为（问卷17题至26题）—17、您', '@16、18、您认为您在上网时使用搜索引擎（百度',\n",
       "       '@16、19、您经常会通过互联网（辣椒直播、下厨', '@16、20、您认为您玩手机网络游戏（斗地主、斗',\n",
       "       '@16、21、您经常会通过互联网观看小说么？', '@16、22、您经常会通过互联网观看视频（快手、',\n",
       "       '@16、23、您认为您通过即时通讯（微信、QQ）与他', '@16、24、您经常会通过社交网络（微博、陌陌、',\n",
       "       '@16、25、您认为您在互联网（淘宝、拼多多、京', '@16、26、您经常使用移动支付（支付宝、微信支',\n",
       "       'Q17_1_我目前的生活接近我理想的状态', 'Q17_2_我的生活条件在各方面都很不错。', 'Q17_3_对我目前的生活，我很满意。',\n",
       "       'Q17_4_到目前为止，我已经得到了我想要的东西', 'Q17_5_如果我能再活一次我没有什么要改变',\n",
       "       '@18、请表述您最近一周的情感状况—6.爱', '@18、7.愉悦', '@18、8.自豪', '@18、9.愤怒',\n",
       "       '@18、10.忧虑', '@18、11.悲哀', '@19、第三部分—1.我能够获得足够有用的媒介信',\n",
       "       '@19、2.我能够不断更新自己的信息获取技能。', '@19、3.我具有较强的信息获取意识。',\n",
       "       '@19、4.我能够熟练使用软件工具进行信息检索。', '@19、5.我能够通过寻找佐证资料判断信息的可信',\n",
       "       '@19、6.能够通过标题、内容等判断信息的可信度', '@19、7.我能够判断当前信息是在陈述事实还是表',\n",
       "       '@19、8.我能够评估媒介信息内容对他人或社会可', '@19、9.我能够通过信息发布机构的权威性判断信',\n",
       "       '@19、10.我通过网络微信微博QQ等分享社会时事新', '@19、11.我通过网络微信微博QQ等参与投票、网络',\n",
       "       '@19、12.我通过网络参与社会公共事件讨论。', '@19、13.我通过网络微信微博QQ等参与社会实践。',\n",
       "       '@19、14.我通过网络微信微博QQ等与他人交流沟通', '@19、15.我通过网络微信微博QQ等分享个人动态信',\n",
       "       '@19、16.我通过网络微信微博QQ等表达个人观点发', '@19、17.我通过网络网络微信微博QQ等与他人协作',\n",
       "       '@19、18.我能够对音视频素材进行转换格式、压缩', '@19、19.我能够对图像素材进行格式转换、压缩与',\n",
       "       '@19、20.我能够对多媒体素材进行合成与发布。', 'Q20_1_我对目前的工作相当满意。',\n",
       "       'Q20_2_大多数时候我对工作充满热情。', 'Q20_3_我不会感到每天的工作似乎永远不会结束。',\n",
       "       'Q20_4_我在工作中找到了真正的乐趣', 'Q20_5_我认为我的工作相当愉快。', 'Q21_1_我感到我是一个有价值的人',\n",
       "       'Q21_2_我感到我有许多好的品质。', 'Q21_3_我倾向于觉得自己是一个失败者', 'Q21_4_我能像大多数人一样把事情做好',\n",
       "       'Q21_5_我感到自己值得自豪的地方不多。', 'Q21_6_我对自己持肯定的态度。', 'Q21_7_总的来说，我对自己是满意的。',\n",
       "       'Q21_8_我希望我能为自己赢得更多尊重。', 'Q21_9_我时常感到自已毫无用处', 'Q21_10_我时常认为自己一无是处。',\n",
       "       '@25、调研日期（根据调研日期填写3、4、5或其他', '@27、调研地点', '@28、问卷编号',\n",
       "       '@30、问卷录入过程中其他需要说明的问题（若没', '年龄段', '每周上网时长', '生活满意度', '生活满意度区间', '工作满意度',\n",
       "       '工作满意度区间', '自尊'],\n",
       "      dtype='object')"
      ]
     },
     "execution_count": 19,
     "metadata": {},
     "output_type": "execute_result"
    }
   ],
   "source": [
    "数据表.columns"
   ]
  },
  {
   "cell_type": "code",
   "execution_count": 24,
   "metadata": {},
   "outputs": [
    {
     "data": {
      "text/plain": [
       "0     2.0\n",
       "1     2.0\n",
       "2     2.0\n",
       "3     2.0\n",
       "4     3.0\n",
       "     ... \n",
       "89    3.0\n",
       "90    4.0\n",
       "91    2.0\n",
       "92    4.0\n",
       "93    2.0\n",
       "Name: @19、13.我通过网络微信微博QQ等参与社会实践。, Length: 94, dtype: float64"
      ]
     },
     "execution_count": 24,
     "metadata": {},
     "output_type": "execute_result"
    }
   ],
   "source": [
    "# 生成变量\n",
    "数据表['信息鉴别能力'] = 数据表['@19、9.我能够通过信息发布机构的权威性判断信']     + 数据表['@19、10.我通过网络微信微博QQ等分享社会时事新']\n",
    "+ 数据表['@19、11.我通过网络微信微博QQ等参与投票、网络']\n",
    "+ 数据表['@19、12.我通过网络参与社会公共事件讨论。']\n",
    "+ 数据表['@19、13.我通过网络微信微博QQ等参与社会实践。']"
   ]
  }
 ],
 "metadata": {
  "kernelspec": {
   "display_name": "Python 3",
   "language": "python",
   "name": "python3"
  },
  "language_info": {
   "codemirror_mode": {
    "name": "ipython",
    "version": 3
   },
   "file_extension": ".py",
   "mimetype": "text/x-python",
   "name": "python",
   "nbconvert_exporter": "python",
   "pygments_lexer": "ipython3",
   "version": "3.10.8"
  }
 },
 "nbformat": 4,
 "nbformat_minor": 2
}
