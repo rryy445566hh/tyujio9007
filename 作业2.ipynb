{
 "cells": [
  {
   "cell_type": "code",
   "execution_count": null,
   "metadata": {},
   "outputs": [],
   "source": [
    "import pandas as pd\n",
    "import os \n",
    "# 读取Excel文件\n",
    "原始数据 = R'000_《统计与数据分析》课程第一次作业收集_提交统计.xlsx'\n",
    "工作表 = '提交清单'  # 替换为你要读取的工作表名称\n",
    "列名列表 = ['姓名', '学号', 'Github仓库地址']  # 替换为你要读取的列名列表\n",
    "\n",
    "# 读取指定列数据\n",
    "df = pd.read_excel(原始数据, sheet_name=工作表, usecols=列名列表)\n",
    "\n",
    "# 将数据转化为字典\n",
    "学生信息 = df.to_dict(orient='records')\n",
    "print(学生信息)\n"
   ]
  },
  {
   "cell_type": "code",
   "execution_count": 174,
   "metadata": {},
   "outputs": [
    {
     "name": "stdout",
     "output_type": "stream",
     "text": [
      "https://github.com/rryy445566hh/tyujio9007\n",
      "https://github.com/rryy445566hh/tyujio9007\n"
     ]
    }
   ],
   "source": [
    "  for item in 学生信息:  \n",
    "    if item[\"姓名\"] == \"拉巴曲措\":  \n",
    "        print(item[\"Github仓库地址\"])"
   ]
  },
  {
   "cell_type": "code",
   "execution_count": 2,
   "metadata": {},
   "outputs": [],
   "source": [
    "def get_github_url(student_id, student_list):\n",
    "    for student in student_list:\n",
    "        if student['学号'] == student_id:\n",
    "            return student['Github仓库地址']\n",
    "    return None"
   ]
  },
  {
   "cell_type": "code",
   "execution_count": 5,
   "metadata": {},
   "outputs": [
    {
     "data": {
      "text/plain": [
       "'https://github.com/rryy445566hh/tyujio9007'"
      ]
     },
     "execution_count": 5,
     "metadata": {},
     "output_type": "execute_result"
    }
   ],
   "source": [
    "get_github_url('P221014494', 学生信息)"
   ]
  },
  {
   "cell_type": "code",
   "execution_count": 129,
   "metadata": {},
   "outputs": [],
   "source": [
    "import requests\n",
    "from datetime import datetime\n",
    "\n",
    "def get_push_count(repo_url):\n",
    "    # 构造API请求URL\n",
    "    api_url = repo_url.replace(\"https://github.com/\", \"https://api.github.com/repos/\") + \"/commits\"\n",
    "    # 发送API请求\n",
    "    response = requests.get(api_url,verify=False)\n",
    "    # 解析API响应\n",
    "    data = response.json()\n",
    "    # 初始化推送次数和日期\n",
    "    push_count = 0\n",
    "    push_date = None\n",
    "    # 遍历每个提交记录\n",
    "    for commit in data:\n",
    "        # 获取提交时间\n",
    "        commit_time = datetime.strptime(commit['commit']['committer']['date'], '%Y-%m-%dT%H:%M:%SZ')\n",
    "        # 判断是否为最近一次提交\n",
    "        if push_date is None or commit_time > push_date:\n",
    "            push_date = commit_time\n",
    "            push_count = 1\n",
    "        elif commit_time == push_date:\n",
    "            push_count += 1\n",
    "    # 返回推送次数和日期\n",
    "    return push_count, push_date.strftime(\"%Y-%m-%d\")\n"
   ]
  },
  {
   "cell_type": "code",
   "execution_count": 181,
   "metadata": {},
   "outputs": [],
   "source": [
    "import requests\n",
    "from datetime import datetime\n",
    "\n",
    "def get_push_time(repo_url):\n",
    "    # 构造API请求URL\n",
    "    api_url = repo_url.replace(\"https://github.com/\", \"https://api.github.com/repos/\") + \"/commits\"\n",
    "    # 发送API请求\n",
    "    response = requests.get(api_url,verify=False)\n",
    "    # 解析API响应\n",
    "    data = response.json()\n",
    "    # 初始化推送时间列表\n",
    "    push_times = []\n",
    "    # 遍历每个提交记录\n",
    "    for commit in data:\n",
    "        # 获取提交时间\n",
    "        commit_time = datetime.strptime(commit['commit']['committer']['date'], '%Y-%m-%dT%H:%M:%SZ')\n",
    "        # 将推送时间添加到列表中\n",
    "        push_times.append(commit_time)\n",
    "    # 返回推送时间列表\n",
    "    return push_times\n"
   ]
  },
  {
   "cell_type": "code",
   "execution_count": 130,
   "metadata": {},
   "outputs": [
    {
     "data": {
      "text/plain": [
       "(1, '2023-09-14')"
      ]
     },
     "execution_count": 130,
     "metadata": {},
     "output_type": "execute_result"
    }
   ],
   "source": [
    "get_push_count('https://github.com/rryy445566hh/tyujio9007')"
   ]
  },
  {
   "cell_type": "code",
   "execution_count": 2,
   "metadata": {},
   "outputs": [],
   "source": [
    "import requests  \n",
    "from datetime import datetime  \n",
    "  \n",
    "def get_commit_data(repo_url):  \n",
    "    response = requests.get(repo_url, verify=False)  \n",
    "    response.raise_for_status()  # 如果请求失败，抛出异常  \n",
    "    return response.json()  \n",
    "  \n",
    "def get_push_count(repo_url):  \n",
    "    # 获取提交记录  \n",
    "    data = get_commit_data(repo_url)  # 我假设这个函数会返回JSON对象列表  \n",
    "    # 定义空列表用于存储推送时间  \n",
    "    get_push_times = []  \n",
    "    # 遍历每个提交记录  \n",
    "    for commit_str in data:  \n",
    "        # 将JSON对象解析为字典  \n",
    "        commit_dict = json.loads(commit_str)  \n",
    "        # 获取提交时间  \n",
    "        commit_time = datetime.strptime(commit_dict['commit']['committer']['date'], '%Y-%m-%dT%H:%M:%SZ')  \n",
    "        # 将推送时间添加到列表中  \n",
    "        push_times.append(commit_time)  \n",
    "    # 返回推送时间列表  \n",
    "    return push_times"
   ]
  },
  {
   "cell_type": "code",
   "execution_count": 153,
   "metadata": {},
   "outputs": [],
   "source": [
    "import requests  \n",
    "from requests.packages.urllib3.exceptions import InsecureRequestWarning  \n",
    "  \n",
    "requests.packages.urllib3.disable_warnings(InsecureRequestWarning)  \n",
    "  \n",
    "response = requests.get('https://example.com', verify=False)"
   ]
  },
  {
   "cell_type": "code",
   "execution_count": 177,
   "metadata": {},
   "outputs": [
    {
     "data": {
      "text/plain": [
       "[datetime.datetime(2023, 9, 14, 1, 56, 51),\n",
       " datetime.datetime(2023, 9, 13, 13, 26, 52),\n",
       " datetime.datetime(2023, 9, 13, 13, 26, 4),\n",
       " datetime.datetime(2023, 9, 7, 12, 43, 55),\n",
       " datetime.datetime(2023, 8, 31, 13, 48, 45),\n",
       " datetime.datetime(2023, 8, 31, 13, 0, 10)]"
      ]
     },
     "execution_count": 177,
     "metadata": {},
     "output_type": "execute_result"
    }
   ],
   "source": [
    "get_push_time ('https://github.com/rryy445566hh/tyujio9007') "
   ]
  },
  {
   "cell_type": "code",
   "execution_count": 4,
   "metadata": {},
   "outputs": [
    {
     "ename": "NameError",
     "evalue": "name 'get_push_times' is not defined",
     "output_type": "error",
     "traceback": [
      "\u001b[1;31m---------------------------------------------------------------------------\u001b[0m",
      "\u001b[1;31mNameError\u001b[0m                                 Traceback (most recent call last)",
      "Cell \u001b[1;32mIn[4], line 1\u001b[0m\n\u001b[1;32m----> 1\u001b[0m \u001b[43mget_push_times\u001b[49m(\u001b[38;5;124m'\u001b[39m\u001b[38;5;124mhttps://github.com/rryy445566hh/ai\u001b[39m\u001b[38;5;124m'\u001b[39m)\n",
      "\u001b[1;31mNameError\u001b[0m: name 'get_push_times' is not defined"
     ]
    }
   ],
   "source": [
    "get_push_times('https://github.com/rryy445566hh/ai')"
   ]
  }
 ],
 "metadata": {
  "kernelspec": {
   "display_name": "Python 3.10.8 64-bit",
   "language": "python",
   "name": "python3"
  },
  "language_info": {
   "codemirror_mode": {
    "name": "ipython",
    "version": 3
   },
   "file_extension": ".py",
   "mimetype": "text/x-python",
   "name": "python",
   "nbconvert_exporter": "python",
   "pygments_lexer": "ipython3",
   "version": "3.10.8"
  },
  "orig_nbformat": 4,
  "vscode": {
   "interpreter": {
    "hash": "26de051ba29f2982a8de78e945f0abaf191376122a1563185a90213a26c5da77"
   }
  }
 },
 "nbformat": 4,
 "nbformat_minor": 2
}
