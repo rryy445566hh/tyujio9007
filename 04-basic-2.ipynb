{
 "cells": [
  {
   "cell_type": "code",
   "execution_count": 42,
   "metadata": {},
   "outputs": [
    {
     "name": "stdout",
     "output_type": "stream",
     "text": [
      "https://github.com/zhouba\n"
     ]
    }
   ],
   "source": [
    "# 创建一个包含 10 个元素的列表，每个元素是一个字典对象  \n",
    "inst = [  \n",
    "    {\"name\": \"张三\", \"id\": \"20180001\", \"github_url\": \"https://github.com/zhangsan\"},  \n",
    "    {\"name\": \"李四\", \"id\": \"20180002\", \"github_url\": \"https://github.com/lisi\"},  \n",
    "    {\"name\": \"王五\", \"id\": \"20180003\", \"github_url\": \"https://github.com/wangwu\"},  \n",
    "    {\"name\": \"赵六\", \"id\": \"20180004\", \"github_url\": \"https://github.com/zhaoliu\"},  \n",
    "    {\"name\": \"孙七\", \"id\": \"20180005\", \"github_url\": \"https://github.com/sunqi\"},  \n",
    "    {\"name\": \"周八\", \"id\": \"20180006\", \"github_url\": \"https://github.com/zhouba\"},  \n",
    "    {\"name\": \"吴九\", \"id\": \"20180007\", \"github_url\": \"https://github.com/wujiu\"},  \n",
    "    {\"name\": \"郑十\", \"id\": \"20180008\", \"github_url\": \"https://github.com/zhengshi\"},  \n",
    "    {\"name\": \"陈十一\", \"id\": \"20180009\", \"github_url\": \"https://github.com/chenshiyi\"},  \n",
    "    {\"name\": \"萧十二\", \"id\": \"20180010\", \"github_url\": \"https://github.com/xiaoshier\"}  \n",
    "]\n",
    "#使用for循环筛选出指定姓名的同学的github仓库地址\n",
    "trget_=\"周八\"\n",
    "for student in inst :\n",
    "        if student [\"name\"]==trget_:\n",
    "            print (student[\"github_url\"])"
   ]
  },
  {
   "cell_type": "code",
   "execution_count": null,
   "metadata": {},
   "outputs": [],
   "source": []
  },
  {
   "cell_type": "code",
   "execution_count": 43,
   "metadata": {},
   "outputs": [
    {
     "name": "stdout",
     "output_type": "stream",
     "text": [
      "name: 张三\n",
      "id: 20180001\n",
      "GitHub 地址: https://github.com/zhangsan\n",
      "\n",
      "name: 李四\n",
      "id: 20180002\n",
      "GitHub 地址: https://github.com/lisi\n",
      "\n",
      "name: 王五\n",
      "id: 20180003\n",
      "GitHub 地址: https://github.com/wangwu\n",
      "\n",
      "name: 赵六\n",
      "id: 20180004\n",
      "GitHub 地址: https://github.com/zhaoliu\n",
      "\n",
      "name: 孙七\n",
      "id: 20180005\n",
      "GitHub 地址: https://github.com/sunqi\n",
      "\n",
      "name: 周八\n",
      "id: 20180006\n",
      "GitHub 地址: https://github.com/zhouba\n",
      "\n",
      "name: 吴九\n",
      "id: 20180007\n",
      "GitHub 地址: https://github.com/wujiu\n",
      "\n",
      "name: 郑十\n",
      "id: 20180008\n",
      "GitHub 地址: https://github.com/zhengshi\n",
      "\n",
      "name: 陈十一\n",
      "id: 20180009\n",
      "GitHub 地址: https://github.com/chenshiyi\n",
      "\n",
      "name: 萧十二\n",
      "id: 20180010\n",
      "GitHub 地址: https://github.com/xiaoshier\n",
      "\n"
     ]
    }
   ],
   "source": [
    "for item in inst:  \n",
    "    print(\"name:\", item[\"name\"])  \n",
    "    print(\"id:\", item[\"id\"])  \n",
    "    print(\"GitHub 地址:\", item[\"github_url\"])  \n",
    "    print()  "
   ]
  },
  {
   "cell_type": "code",
   "execution_count": 20,
   "metadata": {},
   "outputs": [],
   "source": [
    "def get_repo_by_name(name,student):\n",
    "  for i in data:\n",
    "   if i[\"姓名\"]==name:\n",
    "     return i [\"github仓库地址\"]\n",
    "\n",
    "\n"
   ]
  },
  {
   "cell_type": "code",
   "execution_count": 96,
   "metadata": {},
   "outputs": [],
   "source": [
    "import requests  \n",
    "from bs4 import BeautifulSoup  \n",
    "  \n",
    "def get_commit_info(repo_url):  \n",
    "    response = requests.get(repo_url)  \n",
    "    soup = BeautifulSoup(response.text, 'html.parser')  \n",
    "      \n",
    "    commit_count = soup.find('a', {'class': 'social-count'})  \n",
    "    if commit_count:  \n",
    "        commit_count = commit_count.text.strip()  \n",
    "    else:  \n",
    "        commit_count = \"0\"  \n",
    "  \n",
    "    commit_date = soup.find('relative-time')  \n",
    "    if commit_date:  \n",
    "        commit_date = commit_date.text.strip()  \n",
    "    else:  \n",
    "        commit_date = \"未知\"  \n",
    "  \n",
    "    return commit_count, commit_date"
   ]
  },
  {
   "cell_type": "code",
   "execution_count": 97,
   "metadata": {},
   "outputs": [
    {
     "ename": "NameError",
     "evalue": "name 'get_commit_' is not defined",
     "output_type": "error",
     "traceback": [
      "\u001b[1;31m---------------------------------------------------------------------------\u001b[0m",
      "\u001b[1;31mNameError\u001b[0m                                 Traceback (most recent call last)",
      "Cell \u001b[1;32mIn[97], line 1\u001b[0m\n\u001b[1;32m----> 1\u001b[0m \u001b[43mget_commit_\u001b[49m(\u001b[38;5;124m'\u001b[39m\u001b[38;5;124mhttps://github.com/tyuji9007\u001b[39m\u001b[38;5;124m'\u001b[39m)\n",
      "\u001b[1;31mNameError\u001b[0m: name 'get_commit_' is not defined"
     ]
    }
   ],
   "source": [
    "get_commit_('https://github.com/tyuji9007')"
   ]
  }
 ],
 "metadata": {
  "kernelspec": {
   "display_name": "Python 3.10.8 64-bit",
   "language": "python",
   "name": "python3"
  },
  "language_info": {
   "codemirror_mode": {
    "name": "ipython",
    "version": 3
   },
   "file_extension": ".py",
   "mimetype": "text/x-python",
   "name": "python",
   "nbconvert_exporter": "python",
   "pygments_lexer": "ipython3",
   "version": "3.10.8"
  },
  "orig_nbformat": 4,
  "vscode": {
   "interpreter": {
    "hash": "26de051ba29f2982a8de78e945f0abaf191376122a1563185a90213a26c5da77"
   }
  }
 },
 "nbformat": 4,
 "nbformat_minor": 2
}
