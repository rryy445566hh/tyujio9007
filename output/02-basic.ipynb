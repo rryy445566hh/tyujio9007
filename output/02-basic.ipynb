{
 "cells": [
  {
   "cell_type": "code",
   "execution_count": 1,
   "metadata": {},
   "outputs": [
    {
     "name": "stdout",
     "output_type": "stream",
     "text": [
      "初始资金：100000\n",
      "现有资金：99996.5\n"
     ]
    }
   ],
   "source": [
    "#以下是对变量的练习\n",
    "\n",
    "#数字类型\n",
    "money=100000\n",
    "print('初始资金：'+str(money))\n",
    "money=money-3.5\n",
    "print('现有资金：'+str(money))"
   ]
  },
  {
   "cell_type": "code",
   "execution_count": 2,
   "metadata": {},
   "outputs": [
    {
     "name": "stdout",
     "output_type": "stream",
     "text": [
      "<class 'bool'>\n",
      "<class 'tuple'>\n",
      "<class 'list'>\n",
      "<class 'set'>\n",
      "<class 'dict'>\n"
     ]
    }
   ],
   "source": [
    "#其他类型\n",
    "t=False\n",
    "print(type(t))\n",
    "a=(1,2,3)\n",
    "print(type(a))\n",
    "b=[1,2,3]\n",
    "print(type(b))\n",
    "c={1,2,3}\n",
    "print(type(c))\n",
    "d={'姓名':'小明','性别':'男'}\n",
    "print(type(d))"
   ]
  },
  {
   "cell_type": "code",
   "execution_count": 3,
   "metadata": {},
   "outputs": [
    {
     "name": "stdout",
     "output_type": "stream",
     "text": [
      "<class 'str'>\n",
      "崆峒真人使用了太虚剑法\n"
     ]
    }
   ],
   "source": [
    "#字符串\n",
    "\n",
    "#字符串是一种序列\n",
    "title='崆峒真人'\n",
    "skill='太虚剑法'\n",
    "print(type(title))\n",
    "print(title+'使用了'+skill)"
   ]
  }
 ],
 "metadata": {
  "kernelspec": {
   "display_name": "Python 3.10.8 64-bit",
   "language": "python",
   "name": "python3"
  },
  "language_info": {
   "codemirror_mode": {
    "name": "ipython",
    "version": 3
   },
   "file_extension": ".py",
   "mimetype": "text/x-python",
   "name": "python",
   "nbconvert_exporter": "python",
   "pygments_lexer": "ipython3",
   "version": "3.10.8"
  },
  "orig_nbformat": 4,
  "vscode": {
   "interpreter": {
    "hash": "26de051ba29f2982a8de78e945f0abaf191376122a1563185a90213a26c5da77"
   }
  }
 },
 "nbformat": 4,
 "nbformat_minor": 2
}
