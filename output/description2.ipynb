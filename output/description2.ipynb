{
 "cells": [
  {
   "cell_type": "code",
   "execution_count": 62,
   "metadata": {},
   "outputs": [
    {
     "ename": "SyntaxError",
     "evalue": "invalid syntax. Maybe you meant '==' or ':=' instead of '='? (2073745180.py, line 8)",
     "output_type": "error",
     "traceback": [
      "\u001b[1;36m  Cell \u001b[1;32mIn[62], line 8\u001b[1;36m\u001b[0m\n\u001b[1;33m    apply_value_formats = True,formats_as_ordered_categoty = True\u001b[0m\n\u001b[1;37m    ^\u001b[0m\n\u001b[1;31mSyntaxError\u001b[0m\u001b[1;31m:\u001b[0m invalid syntax. Maybe you meant '==' or ':=' instead of '='?\n"
     ]
    }
   ],
   "source": [
    "import pandas as pd\n",
    "import matplotlib.pyplot as plt\n",
    "from pyreadstat import pyreadstat\n",
    "import mytools\n",
    "\n",
    "\n",
    "国家认同调查数据表,metadata = pyreadstat.read_sav(R'C:\\Users\\lenovo\\Desktop\\tyujio9007\\data\\identity.sav')\n",
    "apply_value_formats = True,formats_as_ordered_categoty = True\n",
    "esult = 国家认同调查数据表['会打多少分'].value_counts(sort=False)"
   ]
  },
  {
   "cell_type": "code",
   "execution_count": 48,
   "metadata": {},
   "outputs": [],
   "source": [
    "国家认同调查数据表,metadata = pyreadstat.read_sav(R'C:\\Users\\lenovo\\Desktop\\tyujio9007\\data\\identity.sav')\n",
    "result = 国家认同调查数据表['会打多少分'].value_counts(sort=False)"
   ]
  },
  {
   "cell_type": "code",
   "execution_count": 49,
   "metadata": {},
   "outputs": [],
   "source": [
    "描述统计结果表 = mytools = pyreadstat.read_sav(R'C:\\Users\\lenovo\\Desktop\\tyujio9007\\data\\identity.sav',apply_value_formats=True)\n",
    "result = 国家认同调查数据表['会打多少分'].value_counts(sort=False)"
   ]
  },
  {
   "cell_type": "code",
   "execution_count": 50,
   "metadata": {},
   "outputs": [],
   "source": [
    "国家认同原始表,metadata = pyreadstat.read_sav(R'C:\\Users\\lenovo\\Desktop\\tyujio9007\\data\\identity.sav')"
   ]
  },
  {
   "cell_type": "markdown",
   "metadata": {},
   "source": []
  },
  {
   "cell_type": "code",
   "execution_count": 51,
   "metadata": {},
   "outputs": [
    {
     "ename": "AttributeError",
     "evalue": "'tuple' object has no attribute '有序变量描述统计函数'",
     "output_type": "error",
     "traceback": [
      "\u001b[1;31m---------------------------------------------------------------------------\u001b[0m",
      "\u001b[1;31mAttributeError\u001b[0m                            Traceback (most recent call last)",
      "\u001b[1;32mc:\\Users\\lenovo\\Desktop\\tyujio9007\\output\\description2.ipynb 单元格 6\u001b[0m line \u001b[0;36m1\n\u001b[1;32m----> <a href='vscode-notebook-cell:/c%3A/Users/lenovo/Desktop/tyujio9007/output/description2.ipynb#W3sZmlsZQ%3D%3D?line=0'>1</a>\u001b[0m 描述统计结果表 \u001b[39m=\u001b[39m mytools\u001b[39m.\u001b[39;49m有序变量描述统计函数(国家认同调查数据表,\u001b[39m'\u001b[39m\u001b[39m您觉得中国怎么样\u001b[39m\u001b[39m'\u001b[39m)\n\u001b[0;32m      <a href='vscode-notebook-cell:/c%3A/Users/lenovo/Desktop/tyujio9007/output/description2.ipynb#W3sZmlsZQ%3D%3D?line=1'>2</a>\u001b[0m 描述统计结果表\n",
      "\u001b[1;31mAttributeError\u001b[0m: 'tuple' object has no attribute '有序变量描述统计函数'"
     ]
    }
   ],
   "source": [
    "描述统计结果表 = mytools.有序变量描述统计函数(国家认同调查数据表,'您觉得中国怎么样')\n",
    "描述统计结果表"
   ]
  },
  {
   "cell_type": "code",
   "execution_count": null,
   "metadata": {},
   "outputs": [
    {
     "ename": "AttributeError",
     "evalue": "'tuple' object has no attribute '绘制直方图'",
     "output_type": "error",
     "traceback": [
      "\u001b[1;31m---------------------------------------------------------------------------\u001b[0m",
      "\u001b[1;31mAttributeError\u001b[0m                            Traceback (most recent call last)",
      "\u001b[1;32mc:\\Users\\lenovo\\Desktop\\tyujio9007\\output\\description2.ipynb 单元格 7\u001b[0m line \u001b[0;36m1\n\u001b[1;32m----> <a href='vscode-notebook-cell:/c%3A/Users/lenovo/Desktop/tyujio9007/output/description2.ipynb#W4sZmlsZQ%3D%3D?line=0'>1</a>\u001b[0m mytools\u001b[39m.\u001b[39;49m绘制直方图(描述统计结果表)\n",
      "\u001b[1;31mAttributeError\u001b[0m: 'tuple' object has no attribute '绘制直方图'"
     ]
    }
   ],
   "source": [
    "mytools.绘制直方图(描述统计结果表)"
   ]
  },
  {
   "cell_type": "code",
   "execution_count": 52,
   "metadata": {},
   "outputs": [],
   "source": [
    "df = pd.read_spss(R'C:\\Users\\lenovo\\Desktop\\tyujio9007\\data\\identity.sav')"
   ]
  },
  {
   "cell_type": "code",
   "execution_count": 59,
   "metadata": {},
   "outputs": [
    {
     "ename": "AttributeError",
     "evalue": "'tuple' object has no attribute '读取spss数据文件'",
     "output_type": "error",
     "traceback": [
      "\u001b[1;31m---------------------------------------------------------------------------\u001b[0m",
      "\u001b[1;31mAttributeError\u001b[0m                            Traceback (most recent call last)",
      "\u001b[1;32mc:\\Users\\lenovo\\Desktop\\tyujio9007\\output\\description2.ipynb 单元格 9\u001b[0m line \u001b[0;36m1\n\u001b[1;32m----> <a href='vscode-notebook-cell:/c%3A/Users/lenovo/Desktop/tyujio9007/output/description2.ipynb#X10sZmlsZQ%3D%3D?line=0'>1</a>\u001b[0m 数据表 \u001b[39m=\u001b[39m mytools\u001b[39m.\u001b[39;49m读取spss数据文件(\u001b[39mR\u001b[39m\u001b[39m'\u001b[39m\u001b[39mC:\u001b[39m\u001b[39m\\\u001b[39m\u001b[39mUsers\u001b[39m\u001b[39m\\\u001b[39m\u001b[39mlenovo\u001b[39m\u001b[39m\\\u001b[39m\u001b[39mDesktop\u001b[39m\u001b[39m\\\u001b[39m\u001b[39mtyujio9007\u001b[39m\u001b[39m\\\u001b[39m\u001b[39mdata\u001b[39m\u001b[39m\\\u001b[39m\u001b[39midentity.sav\u001b[39m\u001b[39m'\u001b[39m,\u001b[39mFalse\u001b[39;00m)\n",
      "\u001b[1;31mAttributeError\u001b[0m: 'tuple' object has no attribute '读取spss数据文件'"
     ]
    }
   ],
   "source": [
    "数据表 = mytools.读取spss数据文件(R'C:\\Users\\lenovo\\Desktop\\tyujio9007\\data\\identity.sav',False)"
   ]
  },
  {
   "cell_type": "code",
   "execution_count": 60,
   "metadata": {},
   "outputs": [
    {
     "ename": "NameError",
     "evalue": "name '数据表' is not defined",
     "output_type": "error",
     "traceback": [
      "\u001b[1;31m---------------------------------------------------------------------------\u001b[0m",
      "\u001b[1;31mNameError\u001b[0m                                 Traceback (most recent call last)",
      "\u001b[1;32mc:\\Users\\lenovo\\Desktop\\tyujio9007\\output\\description2.ipynb 单元格 10\u001b[0m line \u001b[0;36m2\n\u001b[0;32m      <a href='vscode-notebook-cell:/c%3A/Users/lenovo/Desktop/tyujio9007/output/description2.ipynb#X12sZmlsZQ%3D%3D?line=0'>1</a>\u001b[0m \u001b[39m# dataframe 变量工具\u001b[39;00m\n\u001b[1;32m----> <a href='vscode-notebook-cell:/c%3A/Users/lenovo/Desktop/tyujio9007/output/description2.ipynb#X12sZmlsZQ%3D%3D?line=1'>2</a>\u001b[0m 国家数据表[\u001b[39m'\u001b[39m\u001b[39m自豪感\u001b[39m\u001b[39m'\u001b[39m] \u001b[39m=\u001b[39m 数据表\u001b[39m.\u001b[39m会打多少分 \u001b[39m+\u001b[39m 数据表\u001b[39m.\u001b[39m您觉得中国怎么样\n",
      "\u001b[1;31mNameError\u001b[0m: name '数据表' is not defined"
     ]
    }
   ],
   "source": [
    "# dataframe 变量工具\n",
    "数据表['自豪感'] = 数据表.会打多少分 + 数据表.您觉得中国怎么样"
   ]
  },
  {
   "cell_type": "code",
   "execution_count": 57,
   "metadata": {},
   "outputs": [
    {
     "ename": "NameError",
     "evalue": "name '数据表' is not defined",
     "output_type": "error",
     "traceback": [
      "\u001b[1;31m---------------------------------------------------------------------------\u001b[0m",
      "\u001b[1;31mNameError\u001b[0m                                 Traceback (most recent call last)",
      "\u001b[1;32mc:\\Users\\lenovo\\Desktop\\tyujio9007\\output\\description2.ipynb 单元格 11\u001b[0m line \u001b[0;36m1\n\u001b[1;32m----> <a href='vscode-notebook-cell:/c%3A/Users/lenovo/Desktop/tyujio9007/output/description2.ipynb#X13sZmlsZQ%3D%3D?line=0'>1</a>\u001b[0m 数据表\u001b[39m.\u001b[39m自豪感\u001b[39m.\u001b[39mdescribe()\n",
      "\u001b[1;31mNameError\u001b[0m: name '数据表' is not defined"
     ]
    }
   ],
   "source": [
    "数据表.自豪感.describe()"
   ]
  }
 ],
 "metadata": {
  "kernelspec": {
   "display_name": "Python 3",
   "language": "python",
   "name": "python3"
  },
  "language_info": {
   "codemirror_mode": {
    "name": "ipython",
    "version": 3
   },
   "file_extension": ".py",
   "mimetype": "text/x-python",
   "name": "python",
   "nbconvert_exporter": "python",
   "pygments_lexer": "ipython3",
   "version": "3.10.8"
  }
 },
 "nbformat": 4,
 "nbformat_minor": 2
}
