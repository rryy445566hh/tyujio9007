{
 "cells": [
  {
   "cell_type": "code",
   "execution_count": 11,
   "metadata": {},
   "outputs": [
    {
     "ename": "PyreadstatError",
     "evalue": "File data\\identity.sav does not exist!",
     "output_type": "error",
     "traceback": [
      "\u001b[1;31m---------------------------------------------------------------------------\u001b[0m",
      "\u001b[1;31mPyreadstatError\u001b[0m                           Traceback (most recent call last)",
      "\u001b[1;32mc:\\Users\\lenovo\\Desktop\\tyujio9007\\output\\description2.ipynb 单元格 1\u001b[0m line \u001b[0;36m6\n\u001b[0;32m      <a href='vscode-notebook-cell:/c%3A/Users/lenovo/Desktop/tyujio9007/output/description2.ipynb#W0sZmlsZQ%3D%3D?line=2'>3</a>\u001b[0m \u001b[39mfrom\u001b[39;00m \u001b[39mpyreadstat\u001b[39;00m \u001b[39mimport\u001b[39;00m pyreadstat\n\u001b[0;32m      <a href='vscode-notebook-cell:/c%3A/Users/lenovo/Desktop/tyujio9007/output/description2.ipynb#W0sZmlsZQ%3D%3D?line=3'>4</a>\u001b[0m \u001b[39mimport\u001b[39;00m \u001b[39mmytools\u001b[39;00m\n\u001b[1;32m----> <a href='vscode-notebook-cell:/c%3A/Users/lenovo/Desktop/tyujio9007/output/description2.ipynb#W0sZmlsZQ%3D%3D?line=5'>6</a>\u001b[0m 国家认同调查数据表,metadata \u001b[39m=\u001b[39m pyreadstat\u001b[39m.\u001b[39;49mread_sav(\u001b[39mR\u001b[39;49m\u001b[39m'\u001b[39;49m\u001b[39mdata\u001b[39;49m\u001b[39m\\\u001b[39;49m\u001b[39midentity.sav\u001b[39;49m\u001b[39m'\u001b[39;49m, apply_value_formats\u001b[39m=\u001b[39;49m\u001b[39mTrue\u001b[39;49;00m, formats_as_ordered_category\u001b[39m=\u001b[39;49m\u001b[39mTrue\u001b[39;49;00m)\n\u001b[0;32m      <a href='vscode-notebook-cell:/c%3A/Users/lenovo/Desktop/tyujio9007/output/description2.ipynb#W0sZmlsZQ%3D%3D?line=6'>7</a>\u001b[0m 描述统计结果表 \u001b[39m=\u001b[39m mytools\u001b[39m.\u001b[39m有序变量描述统计函数(国家认同调查数据表,\u001b[39m'\u001b[39m\u001b[39m您觉得中国怎么样\u001b[39m\u001b[39m'\u001b[39m)\n\u001b[0;32m      <a href='vscode-notebook-cell:/c%3A/Users/lenovo/Desktop/tyujio9007/output/description2.ipynb#W0sZmlsZQ%3D%3D?line=7'>8</a>\u001b[0m 描述统计结果表\n",
      "File \u001b[1;32mpyreadstat\\\\pyreadstat.pyx:388\u001b[0m, in \u001b[0;36mpyreadstat.pyreadstat.read_sav\u001b[1;34m()\u001b[0m\n",
      "File \u001b[1;32mpyreadstat\\\\_readstat_parser.pyx:1065\u001b[0m, in \u001b[0;36mpyreadstat._readstat_parser.run_conversion\u001b[1;34m()\u001b[0m\n",
      "\u001b[1;31mPyreadstatError\u001b[0m: File data\\identity.sav does not exist!"
     ]
    }
   ],
   "source": [
    "import pandas as pd  \n",
    "import matplotlib.pyplot as plt  \n",
    "from pyreadstat import pyreadstat\n",
    "import mytools\n",
    "\n",
    "国家认同调查数据表,metadata = pyreadstat.read_sav(R'data\\identity.sav', apply_value_formats=True, formats_as_ordered_category=True)\n",
    "描述统计结果表 = mytools.有序变量描述统计函数(国家认同调查数据表,'您觉得中国怎么样')\n",
    "描述统计结果表\n",
    "mytools.绘制直方图(描述统计结果表)\n",
    "数据表 = mytools.读取SPSS数据文件(R'C:\\Users\\lenovo\\Desktop\\tyujio9007\\data\\identity.sav', False)\n",
    "\n",
    "# dataframe 变量生成\n",
    "数据表['自豪感'] = 数据表.会打多少分 + 数据表.您觉得中国怎么样\n",
    "数据表.自豪感.describe()\n",
    "数据表['自豪感'].mode()\n"
   ]
  },
  {
   "cell_type": "code",
   "execution_count": 7,
   "metadata": {},
   "outputs": [
    {
     "ename": "NameError",
     "evalue": "name '国家认同调查数据表' is not defined",
     "output_type": "error",
     "traceback": [
      "\u001b[1;31m---------------------------------------------------------------------------\u001b[0m",
      "\u001b[1;31mNameError\u001b[0m                                 Traceback (most recent call last)",
      "\u001b[1;32mc:\\Users\\lenovo\\Desktop\\tyujio9007\\output\\description2.ipynb 单元格 2\u001b[0m line \u001b[0;36m1\n\u001b[1;32m----> <a href='vscode-notebook-cell:/c%3A/Users/lenovo/Desktop/tyujio9007/output/description2.ipynb#W1sZmlsZQ%3D%3D?line=0'>1</a>\u001b[0m 描述统计结果表 \u001b[39m=\u001b[39m mytools\u001b[39m.\u001b[39m有序变量描述统计函数(国家认同调查数据表,\u001b[39m'\u001b[39m\u001b[39m您觉得中国怎么样\u001b[39m\u001b[39m'\u001b[39m)\n\u001b[0;32m      <a href='vscode-notebook-cell:/c%3A/Users/lenovo/Desktop/tyujio9007/output/description2.ipynb#W1sZmlsZQ%3D%3D?line=1'>2</a>\u001b[0m 描述统计结果表\n",
      "\u001b[1;31mNameError\u001b[0m: name '国家认同调查数据表' is not defined"
     ]
    }
   ],
   "source": [
    "描述统计结果表 = mytools.有序变量描述统计函数(国家认同调查数据表,'您觉得中国怎么样')\n",
    "描述统计结果表"
   ]
  },
  {
   "cell_type": "code",
   "execution_count": 8,
   "metadata": {},
   "outputs": [
    {
     "ename": "AttributeError",
     "evalue": "module 'mytools' has no attribute '绘制直方图'",
     "output_type": "error",
     "traceback": [
      "\u001b[1;31m---------------------------------------------------------------------------\u001b[0m",
      "\u001b[1;31mAttributeError\u001b[0m                            Traceback (most recent call last)",
      "\u001b[1;32mc:\\Users\\lenovo\\Desktop\\tyujio9007\\output\\description2.ipynb 单元格 3\u001b[0m line \u001b[0;36m1\n\u001b[1;32m----> <a href='vscode-notebook-cell:/c%3A/Users/lenovo/Desktop/tyujio9007/output/description2.ipynb#W2sZmlsZQ%3D%3D?line=0'>1</a>\u001b[0m mytools\u001b[39m.\u001b[39;49m绘制直方图(描述统计结果表)\n",
      "\u001b[1;31mAttributeError\u001b[0m: module 'mytools' has no attribute '绘制直方图'"
     ]
    }
   ],
   "source": [
    "mytools.绘制直方图(描述统计结果表)"
   ]
  },
  {
   "cell_type": "code",
   "execution_count": 9,
   "metadata": {},
   "outputs": [
    {
     "ename": "AttributeError",
     "evalue": "module 'mytools' has no attribute '读取SPSS数据文件'",
     "output_type": "error",
     "traceback": [
      "\u001b[1;31m---------------------------------------------------------------------------\u001b[0m",
      "\u001b[1;31mAttributeError\u001b[0m                            Traceback (most recent call last)",
      "\u001b[1;32mc:\\Users\\lenovo\\Desktop\\tyujio9007\\output\\description2.ipynb 单元格 4\u001b[0m line \u001b[0;36m1\n\u001b[1;32m----> <a href='vscode-notebook-cell:/c%3A/Users/lenovo/Desktop/tyujio9007/output/description2.ipynb#W3sZmlsZQ%3D%3D?line=0'>1</a>\u001b[0m 数据表 \u001b[39m=\u001b[39m mytools\u001b[39m.\u001b[39;49m读取SPSS数据文件(\u001b[39mR\u001b[39m\u001b[39m'\u001b[39m\u001b[39mdata\u001b[39m\u001b[39m\\\u001b[39m\u001b[39midentity.sav\u001b[39m\u001b[39m'\u001b[39m,\u001b[39mFalse\u001b[39;00m)\n",
      "\u001b[1;31mAttributeError\u001b[0m: module 'mytools' has no attribute '读取SPSS数据文件'"
     ]
    }
   ],
   "source": [
    "数据表 = mytools.读取SPSS数据文件(R'data\\identity.sav',False)"
   ]
  },
  {
   "cell_type": "markdown",
   "metadata": {},
   "source": []
  },
  {
   "cell_type": "code",
   "execution_count": 10,
   "metadata": {},
   "outputs": [
    {
     "ename": "NameError",
     "evalue": "name '数据表' is not defined",
     "output_type": "error",
     "traceback": [
      "\u001b[1;31m---------------------------------------------------------------------------\u001b[0m",
      "\u001b[1;31mNameError\u001b[0m                                 Traceback (most recent call last)",
      "\u001b[1;32mc:\\Users\\lenovo\\Desktop\\tyujio9007\\output\\description2.ipynb 单元格 6\u001b[0m line \u001b[0;36m2\n\u001b[0;32m      <a href='vscode-notebook-cell:/c%3A/Users/lenovo/Desktop/tyujio9007/output/description2.ipynb#W5sZmlsZQ%3D%3D?line=0'>1</a>\u001b[0m \u001b[39m# dataframe 变量生成\u001b[39;00m\n\u001b[1;32m----> <a href='vscode-notebook-cell:/c%3A/Users/lenovo/Desktop/tyujio9007/output/description2.ipynb#W5sZmlsZQ%3D%3D?line=1'>2</a>\u001b[0m 数据表[\u001b[39m'\u001b[39m\u001b[39m自豪感\u001b[39m\u001b[39m'\u001b[39m] \u001b[39m=\u001b[39m 数据表\u001b[39m.\u001b[39m会打多少分 \u001b[39m+\u001b[39m 数据表\u001b[39m.\u001b[39m您觉得中国怎么样\n",
      "\u001b[1;31mNameError\u001b[0m: name '数据表' is not defined"
     ]
    }
   ],
   "source": [
    "# dataframe 变量生成\n",
    "数据表['自豪感'] = 数据表.会打多少分 + 数据表.您觉得中国怎么样"
   ]
  },
  {
   "cell_type": "code",
   "execution_count": null,
   "metadata": {},
   "outputs": [],
   "source": [
    "数据表.自豪感.describe()"
   ]
  },
  {
   "cell_type": "code",
   "execution_count": null,
   "metadata": {},
   "outputs": [],
   "source": [
    "数据表['自豪感'].mode()"
   ]
  }
 ],
 "metadata": {
  "kernelspec": {
   "display_name": "Python 3",
   "language": "python",
   "name": "python3"
  },
  "language_info": {
   "codemirror_mode": {
    "name": "ipython",
    "version": 3
   },
   "file_extension": ".py",
   "mimetype": "text/x-python",
   "name": "python",
   "nbconvert_exporter": "python",
   "pygments_lexer": "ipython3",
   "version": "3.10.8"
  }
 },
 "nbformat": 4,
 "nbformat_minor": 2
}
