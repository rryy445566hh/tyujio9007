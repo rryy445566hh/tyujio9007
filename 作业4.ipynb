{
 "cells": [
  {
   "cell_type": "code",
   "execution_count": 16,
   "metadata": {},
   "outputs": [],
   "source": [
    "import mytools\n",
    "import pandas as pd\n",
    "import plotly.express as px\n",
    "data = pd.read_csv(R'data\\类别变量练习数据-test.csv',encoding='GBK')   "
   ]
  },
  {
   "cell_type": "code",
   "execution_count": 4,
   "metadata": {},
   "outputs": [],
   "source": [
    "父母职业数据表 = pd.read_csv(R'data\\类别变量练习数据-test.csv',encoding=\"GBK\")"
   ]
  },
  {
   "cell_type": "code",
   "execution_count": 5,
   "metadata": {},
   "outputs": [
    {
     "data": {
      "text/plain": [
       "父亲职业重新编码\n",
       "公务员     21\n",
       "民企      13\n",
       "个体       8\n",
       "国企       4\n",
       "事业单位     3\n",
       "家庭主夫     3\n",
       "Name: count, dtype: int64"
      ]
     },
     "execution_count": 5,
     "metadata": {},
     "output_type": "execute_result"
    }
   ],
   "source": [
    "父母职业数据表['父亲职业重新编码'].value_counts()"
   ]
  },
  {
   "cell_type": "code",
   "execution_count": 55,
   "metadata": {},
   "outputs": [
    {
     "name": "stdout",
     "output_type": "stream",
     "text": [
      "母亲工作            XX路街道诚信社区  中国平安财险股份有限公司  九亩花田蛋糕店  事业单位  二十一冶  公务员  \\\n",
      "父亲工作                                                                \n",
      "XXX建设局                  0             0        0     0     0    0   \n",
      "XXX镇政府                  0             0        0     0     0    0   \n",
      "万民工程建设有限公司              0             0        0     0     0    0   \n",
      "万盛体能拓展中心鑫多米便利店          0             0        0     0     0    0   \n",
      "中铁六局太原铁路建设公司            0             0        0     0     0    0   \n",
      "元拓科技咨询有限公司              0             1        0     0     0    0   \n",
      "公安局                     0             0        0     0     0    0   \n",
      "凯信会议服务有限公司              0             0        0     0     0    0   \n",
      "北京路九洋菜市场刘伟鲜面店           0             0        0     0     0    0   \n",
      "区建豪汽修中心                 0             0        0     0     0    2   \n",
      "县瑞金路锦辉消防工程有限公司          0             0        0     0     0    1   \n",
      "大市场清华电动工具               0             0        0     0     0    1   \n",
      "大禹工程咨询有限公司              0             0        0     0     0    0   \n",
      "娟红杂粮食府                  0             0        0     0     0    0   \n",
      "家庭主妇                    0             0        0     0     0    1   \n",
      "家庭父亲                    0             0        0     0     0    0   \n",
      "家庭父母                    0             0        0     0     0    0   \n",
      "市中级人民法院                 0             0        0     0     0    0   \n",
      "市住建局                    0             0        0     0     0    0   \n",
      "市公安局                    0             0        0     0     0    0   \n",
      "市农业农村局                  0             0        0     0     0    0   \n",
      "市农业综合行政执法队              0             0        0     0     0    0   \n",
      "市团委                     0             0        0     0     0    0   \n",
      "市委办                     0             0        0     0     0    0   \n",
      "市广播电视大学                 0             0        0     0     0    0   \n",
      "市政管理处                   0             0        0     0     0    0   \n",
      "市旅游局                    0             0        0     0     0    0   \n",
      "市民政局                    0             0        0     0     0    0   \n",
      "市第一人民医院                 0             0        0     0     0    0   \n",
      "市纪委                     0             0        0     0     0    0   \n",
      "市经济合作局\\n                0             0        0     0     0    0   \n",
      "市统计局                    0             0        0     1     0    0   \n",
      "市财政局                    0             0        0     0     0    0   \n",
      "广东省中海油                  0             0        0     0     0    1   \n",
      "江苏路之久工程建设有限公司           0             0        0     0     0    1   \n",
      "渭源陇原恒新畜牧科技有限公司          1             0        0     0     0    0   \n",
      "瑞禾农资                    0             0        0     0     0    0   \n",
      "盛泰房地产公司                 0             0        0     0     0    2   \n",
      "省监狱局                    0             0        0     0     0    0   \n",
      "第十一中学北侧校园书店             0             0        0     0     0    0   \n",
      "老姐饺子馆                   0             0        0     0     0    1   \n",
      "西区管委会                   0             0        0     0     0    0   \n",
      "银中源工贸有限公司               0             0        0     0     0    1   \n",
      "银光聚银化工有限公司              0             0        1     0     0    0   \n",
      "长通公司                    0             0        0     0     0    0   \n",
      "陇风巢浴                    0             0        0     0     0    0   \n",
      "陕西省水利水电第三工程局            0             0        0     0     1    0   \n",
      "\n",
      "母亲工作            公路应急保障与路网监测中心  农行XXX县支行  凤巢浴足  北京路九洋菜市场刘伟鲜面店  ...  新疆省和田市个体药店  \\\n",
      "父亲工作                                                          ...               \n",
      "XXX建设局                      0         0     0              0  ...           0   \n",
      "XXX镇政府                      0         0     0              0  ...           0   \n",
      "万民工程建设有限公司                  0         0     0              0  ...           1   \n",
      "万盛体能拓展中心鑫多米便利店              0         0     0              0  ...           0   \n",
      "中铁六局太原铁路建设公司                0         0     0              0  ...           0   \n",
      "元拓科技咨询有限公司                  0         0     0              0  ...           0   \n",
      "公安局                         0         0     0              0  ...           0   \n",
      "凯信会议服务有限公司                  0         0     0              0  ...           0   \n",
      "北京路九洋菜市场刘伟鲜面店               0         0     0              1  ...           0   \n",
      "区建豪汽修中心                     0         0     0              0  ...           0   \n",
      "县瑞金路锦辉消防工程有限公司              0         0     0              0  ...           0   \n",
      "大市场清华电动工具                   0         0     0              0  ...           0   \n",
      "大禹工程咨询有限公司                  0         0     0              0  ...           0   \n",
      "娟红杂粮食府                      0         0     0              0  ...           0   \n",
      "家庭主妇                        0         0     0              0  ...           0   \n",
      "家庭父亲                        0         0     0              0  ...           0   \n",
      "家庭父母                        0         0     0              0  ...           0   \n",
      "市中级人民法院                     0         1     0              0  ...           0   \n",
      "市住建局                        0         0     0              0  ...           0   \n",
      "市公安局                        0         0     0              0  ...           0   \n",
      "市农业农村局                      0         0     0              0  ...           0   \n",
      "市农业综合行政执法队                  0         0     0              0  ...           0   \n",
      "市团委                         0         0     0              0  ...           0   \n",
      "市委办                         0         0     0              0  ...           0   \n",
      "市广播电视大学                     0         0     0              0  ...           0   \n",
      "市政管理处                       0         0     0              0  ...           0   \n",
      "市旅游局                        0         0     0              0  ...           0   \n",
      "市民政局                        0         0     0              0  ...           0   \n",
      "市第一人民医院                     1         0     0              0  ...           0   \n",
      "市纪委                         0         0     0              0  ...           0   \n",
      "市经济合作局\\n                    0         0     0              0  ...           0   \n",
      "市统计局                        0         0     0              0  ...           0   \n",
      "市财政局                        0         0     0              0  ...           0   \n",
      "广东省中海油                      0         0     0              0  ...           0   \n",
      "江苏路之久工程建设有限公司               0         0     0              0  ...           0   \n",
      "渭源陇原恒新畜牧科技有限公司              0         0     0              0  ...           0   \n",
      "瑞禾农资                        0         0     0              0  ...           0   \n",
      "盛泰房地产公司                     0         0     0              0  ...           0   \n",
      "省监狱局                        0         0     0              0  ...           0   \n",
      "第十一中学北侧校园书店                 0         0     0              0  ...           0   \n",
      "老姐饺子馆                       0         0     0              0  ...           0   \n",
      "西区管委会                       0         0     0              0  ...           0   \n",
      "银中源工贸有限公司                   0         0     0              0  ...           0   \n",
      "银光聚银化工有限公司                  0         0     0              0  ...           0   \n",
      "长通公司                        0         0     0              0  ...           0   \n",
      "陇风巢浴                        0         0     1              0  ...           0   \n",
      "陕西省水利水电第三工程局                0         0     0              0  ...           0   \n",
      "\n",
      "母亲工作            泰安学校教职工  白银区公园路街道办事处  省第三人民医院  矿冶职业技术学院  纺织路街道办  美年大健康有限公司  \\\n",
      "父亲工作                                                                         \n",
      "XXX建设局                0            0        0         0       0          0   \n",
      "XXX镇政府                0            0        0         0       0          1   \n",
      "万民工程建设有限公司            0            0        0         0       0          0   \n",
      "万盛体能拓展中心鑫多米便利店        0            0        0         0       0          0   \n",
      "中铁六局太原铁路建设公司          0            0        0         0       0          0   \n",
      "元拓科技咨询有限公司            0            0        0         0       0          0   \n",
      "公安局                   0            0        0         0       0          0   \n",
      "凯信会议服务有限公司            0            0        0         0       0          0   \n",
      "北京路九洋菜市场刘伟鲜面店         0            0        0         0       0          0   \n",
      "区建豪汽修中心               0            0        0         0       0          0   \n",
      "县瑞金路锦辉消防工程有限公司        0            0        0         0       0          0   \n",
      "大市场清华电动工具             0            0        0         0       0          0   \n",
      "大禹工程咨询有限公司            0            0        0         0       1          0   \n",
      "娟红杂粮食府                0            0        0         0       0          0   \n",
      "家庭主妇                  0            0        0         0       0          0   \n",
      "家庭父亲                  0            1        0         0       0          0   \n",
      "家庭父母                  0            0        0         0       0          0   \n",
      "市中级人民法院               0            0        0         0       0          0   \n",
      "市住建局                  0            0        0         0       0          0   \n",
      "市公安局                  0            0        1         0       0          0   \n",
      "市农业农村局                0            0        0         0       0          0   \n",
      "市农业综合行政执法队            0            0        0         0       0          0   \n",
      "市团委                   0            0        0         0       0          0   \n",
      "市委办                   0            0        0         0       0          0   \n",
      "市广播电视大学               0            0        0         0       0          0   \n",
      "市政管理处                 0            0        0         0       0          0   \n",
      "市旅游局                  0            0        0         0       0          0   \n",
      "市民政局                  0            0        0         1       0          0   \n",
      "市第一人民医院               0            0        0         0       0          0   \n",
      "市纪委                   0            0        0         0       0          0   \n",
      "市经济合作局\\n              0            0        0         0       0          0   \n",
      "市统计局                  0            0        0         0       0          0   \n",
      "市财政局                  1            0        0         0       0          0   \n",
      "广东省中海油                0            0        0         0       0          0   \n",
      "江苏路之久工程建设有限公司         0            0        0         0       0          0   \n",
      "渭源陇原恒新畜牧科技有限公司        0            0        0         0       0          0   \n",
      "瑞禾农资                  0            0        0         0       0          0   \n",
      "盛泰房地产公司               0            0        0         0       0          0   \n",
      "省监狱局                  0            0        0         0       0          0   \n",
      "第十一中学北侧校园书店           0            0        0         0       0          0   \n",
      "老姐饺子馆                 0            0        0         0       0          0   \n",
      "西区管委会                 0            0        0         0       0          0   \n",
      "银中源工贸有限公司             0            0        0         0       0          0   \n",
      "银光聚银化工有限公司            0            0        0         0       0          0   \n",
      "长通公司                  0            0        0         0       0          0   \n",
      "陇风巢浴                  0            0        0         0       0          0   \n",
      "陕西省水利水电第三工程局          0            0        0         0       0          0   \n",
      "\n",
      "母亲工作            鑫智点交通设施有限公司  长城国际旅行社有限责任公司  顶新文化公司  \n",
      "父亲工作                                                \n",
      "XXX建设局                    0              0       0  \n",
      "XXX镇政府                    0              0       0  \n",
      "万民工程建设有限公司                0              0       0  \n",
      "万盛体能拓展中心鑫多米便利店            0              0       0  \n",
      "中铁六局太原铁路建设公司              1              0       0  \n",
      "元拓科技咨询有限公司                0              0       0  \n",
      "公安局                       0              0       0  \n",
      "凯信会议服务有限公司                0              1       0  \n",
      "北京路九洋菜市场刘伟鲜面店             0              0       0  \n",
      "区建豪汽修中心                   0              0       0  \n",
      "县瑞金路锦辉消防工程有限公司            0              0       0  \n",
      "大市场清华电动工具                 0              0       0  \n",
      "大禹工程咨询有限公司                0              0       0  \n",
      "娟红杂粮食府                    0              0       0  \n",
      "家庭主妇                      0              0       0  \n",
      "家庭父亲                      0              0       0  \n",
      "家庭父母                      0              0       0  \n",
      "市中级人民法院                   0              0       0  \n",
      "市住建局                      0              0       0  \n",
      "市公安局                      0              0       0  \n",
      "市农业农村局                    0              0       0  \n",
      "市农业综合行政执法队                0              0       0  \n",
      "市团委                       0              0       0  \n",
      "市委办                       0              0       0  \n",
      "市广播电视大学                   0              0       0  \n",
      "市政管理处                     0              0       0  \n",
      "市旅游局                      0              0       0  \n",
      "市民政局                      0              0       0  \n",
      "市第一人民医院                   0              0       0  \n",
      "市纪委                       0              0       0  \n",
      "市经济合作局\\n                  0              0       0  \n",
      "市统计局                      0              0       0  \n",
      "市财政局                      0              0       0  \n",
      "广东省中海油                    0              0       0  \n",
      "江苏路之久工程建设有限公司             0              0       0  \n",
      "渭源陇原恒新畜牧科技有限公司            0              0       0  \n",
      "瑞禾农资                      0              0       0  \n",
      "盛泰房地产公司                   0              0       0  \n",
      "省监狱局                      0              0       0  \n",
      "第十一中学北侧校园书店               0              0       1  \n",
      "老姐饺子馆                     0              0       0  \n",
      "西区管委会                     0              0       0  \n",
      "银中源工贸有限公司                 0              0       0  \n",
      "银光聚银化工有限公司                0              0       0  \n",
      "长通公司                      0              0       0  \n",
      "陇风巢浴                      0              0       0  \n",
      "陕西省水利水电第三工程局              0              0       0  \n",
      "\n",
      "[47 rows x 41 columns]\n"
     ]
    }
   ],
   "source": [
    "# 创建交叉分析表\n",
    "cross_table = pd.crosstab(data['父亲工作'], data['母亲工作'])\n",
    "print(cross_table)"
   ]
  },
  {
   "cell_type": "code",
   "execution_count": 11,
   "metadata": {},
   "outputs": [
    {
     "data": {
      "application/vnd.plotly.v1+json": {
       "config": {
        "plotlyServerURL": "https://plot.ly"
       },
       "data": [
        {
         "domain": {
          "x": [
           0,
           1
          ],
          "y": [
           0,
           1
          ]
         },
         "hovertemplate": "母亲职业重新编码=%{label}<extra></extra>",
         "labels": [
          "民企",
          "民企",
          "个体",
          "上市民企",
          "事业单位",
          "公务员",
          "家庭主妇",
          "家庭主妇",
          "国企",
          "公务员",
          "事业单位",
          "个体",
          "公务员",
          "公务员",
          "家庭主妇",
          "家庭主妇",
          "个体",
          "家庭主妇",
          "家庭主妇",
          "家庭主妇",
          "民企",
          "事业单位",
          "国企",
          "事业单位",
          "个体",
          "个体",
          "民企",
          "公务员",
          "个体",
          "公务员",
          "家庭主妇",
          "民企",
          "公务员",
          "公务员",
          "公务员",
          "家庭主妇",
          "家庭主妇",
          "个体",
          "事业单位",
          "个体",
          "事业单位",
          "公务员",
          "家庭主妇",
          "家庭主妇",
          "公务员",
          "事业单位",
          "公务员",
          "公务员",
          "公务员",
          "个体",
          "个体",
          "事业单位"
         ],
         "legendgroup": "",
         "name": "",
         "showlegend": true,
         "type": "pie"
        }
       ],
       "layout": {
        "legend": {
         "tracegroupgap": 0
        },
        "template": {
         "data": {
          "bar": [
           {
            "error_x": {
             "color": "#2a3f5f"
            },
            "error_y": {
             "color": "#2a3f5f"
            },
            "marker": {
             "line": {
              "color": "#E5ECF6",
              "width": 0.5
             },
             "pattern": {
              "fillmode": "overlay",
              "size": 10,
              "solidity": 0.2
             }
            },
            "type": "bar"
           }
          ],
          "barpolar": [
           {
            "marker": {
             "line": {
              "color": "#E5ECF6",
              "width": 0.5
             },
             "pattern": {
              "fillmode": "overlay",
              "size": 10,
              "solidity": 0.2
             }
            },
            "type": "barpolar"
           }
          ],
          "carpet": [
           {
            "aaxis": {
             "endlinecolor": "#2a3f5f",
             "gridcolor": "white",
             "linecolor": "white",
             "minorgridcolor": "white",
             "startlinecolor": "#2a3f5f"
            },
            "baxis": {
             "endlinecolor": "#2a3f5f",
             "gridcolor": "white",
             "linecolor": "white",
             "minorgridcolor": "white",
             "startlinecolor": "#2a3f5f"
            },
            "type": "carpet"
           }
          ],
          "choropleth": [
           {
            "colorbar": {
             "outlinewidth": 0,
             "ticks": ""
            },
            "type": "choropleth"
           }
          ],
          "contour": [
           {
            "colorbar": {
             "outlinewidth": 0,
             "ticks": ""
            },
            "colorscale": [
             [
              0,
              "#0d0887"
             ],
             [
              0.1111111111111111,
              "#46039f"
             ],
             [
              0.2222222222222222,
              "#7201a8"
             ],
             [
              0.3333333333333333,
              "#9c179e"
             ],
             [
              0.4444444444444444,
              "#bd3786"
             ],
             [
              0.5555555555555556,
              "#d8576b"
             ],
             [
              0.6666666666666666,
              "#ed7953"
             ],
             [
              0.7777777777777778,
              "#fb9f3a"
             ],
             [
              0.8888888888888888,
              "#fdca26"
             ],
             [
              1,
              "#f0f921"
             ]
            ],
            "type": "contour"
           }
          ],
          "contourcarpet": [
           {
            "colorbar": {
             "outlinewidth": 0,
             "ticks": ""
            },
            "type": "contourcarpet"
           }
          ],
          "heatmap": [
           {
            "colorbar": {
             "outlinewidth": 0,
             "ticks": ""
            },
            "colorscale": [
             [
              0,
              "#0d0887"
             ],
             [
              0.1111111111111111,
              "#46039f"
             ],
             [
              0.2222222222222222,
              "#7201a8"
             ],
             [
              0.3333333333333333,
              "#9c179e"
             ],
             [
              0.4444444444444444,
              "#bd3786"
             ],
             [
              0.5555555555555556,
              "#d8576b"
             ],
             [
              0.6666666666666666,
              "#ed7953"
             ],
             [
              0.7777777777777778,
              "#fb9f3a"
             ],
             [
              0.8888888888888888,
              "#fdca26"
             ],
             [
              1,
              "#f0f921"
             ]
            ],
            "type": "heatmap"
           }
          ],
          "heatmapgl": [
           {
            "colorbar": {
             "outlinewidth": 0,
             "ticks": ""
            },
            "colorscale": [
             [
              0,
              "#0d0887"
             ],
             [
              0.1111111111111111,
              "#46039f"
             ],
             [
              0.2222222222222222,
              "#7201a8"
             ],
             [
              0.3333333333333333,
              "#9c179e"
             ],
             [
              0.4444444444444444,
              "#bd3786"
             ],
             [
              0.5555555555555556,
              "#d8576b"
             ],
             [
              0.6666666666666666,
              "#ed7953"
             ],
             [
              0.7777777777777778,
              "#fb9f3a"
             ],
             [
              0.8888888888888888,
              "#fdca26"
             ],
             [
              1,
              "#f0f921"
             ]
            ],
            "type": "heatmapgl"
           }
          ],
          "histogram": [
           {
            "marker": {
             "pattern": {
              "fillmode": "overlay",
              "size": 10,
              "solidity": 0.2
             }
            },
            "type": "histogram"
           }
          ],
          "histogram2d": [
           {
            "colorbar": {
             "outlinewidth": 0,
             "ticks": ""
            },
            "colorscale": [
             [
              0,
              "#0d0887"
             ],
             [
              0.1111111111111111,
              "#46039f"
             ],
             [
              0.2222222222222222,
              "#7201a8"
             ],
             [
              0.3333333333333333,
              "#9c179e"
             ],
             [
              0.4444444444444444,
              "#bd3786"
             ],
             [
              0.5555555555555556,
              "#d8576b"
             ],
             [
              0.6666666666666666,
              "#ed7953"
             ],
             [
              0.7777777777777778,
              "#fb9f3a"
             ],
             [
              0.8888888888888888,
              "#fdca26"
             ],
             [
              1,
              "#f0f921"
             ]
            ],
            "type": "histogram2d"
           }
          ],
          "histogram2dcontour": [
           {
            "colorbar": {
             "outlinewidth": 0,
             "ticks": ""
            },
            "colorscale": [
             [
              0,
              "#0d0887"
             ],
             [
              0.1111111111111111,
              "#46039f"
             ],
             [
              0.2222222222222222,
              "#7201a8"
             ],
             [
              0.3333333333333333,
              "#9c179e"
             ],
             [
              0.4444444444444444,
              "#bd3786"
             ],
             [
              0.5555555555555556,
              "#d8576b"
             ],
             [
              0.6666666666666666,
              "#ed7953"
             ],
             [
              0.7777777777777778,
              "#fb9f3a"
             ],
             [
              0.8888888888888888,
              "#fdca26"
             ],
             [
              1,
              "#f0f921"
             ]
            ],
            "type": "histogram2dcontour"
           }
          ],
          "mesh3d": [
           {
            "colorbar": {
             "outlinewidth": 0,
             "ticks": ""
            },
            "type": "mesh3d"
           }
          ],
          "parcoords": [
           {
            "line": {
             "colorbar": {
              "outlinewidth": 0,
              "ticks": ""
             }
            },
            "type": "parcoords"
           }
          ],
          "pie": [
           {
            "automargin": true,
            "type": "pie"
           }
          ],
          "scatter": [
           {
            "fillpattern": {
             "fillmode": "overlay",
             "size": 10,
             "solidity": 0.2
            },
            "type": "scatter"
           }
          ],
          "scatter3d": [
           {
            "line": {
             "colorbar": {
              "outlinewidth": 0,
              "ticks": ""
             }
            },
            "marker": {
             "colorbar": {
              "outlinewidth": 0,
              "ticks": ""
             }
            },
            "type": "scatter3d"
           }
          ],
          "scattercarpet": [
           {
            "marker": {
             "colorbar": {
              "outlinewidth": 0,
              "ticks": ""
             }
            },
            "type": "scattercarpet"
           }
          ],
          "scattergeo": [
           {
            "marker": {
             "colorbar": {
              "outlinewidth": 0,
              "ticks": ""
             }
            },
            "type": "scattergeo"
           }
          ],
          "scattergl": [
           {
            "marker": {
             "colorbar": {
              "outlinewidth": 0,
              "ticks": ""
             }
            },
            "type": "scattergl"
           }
          ],
          "scattermapbox": [
           {
            "marker": {
             "colorbar": {
              "outlinewidth": 0,
              "ticks": ""
             }
            },
            "type": "scattermapbox"
           }
          ],
          "scatterpolar": [
           {
            "marker": {
             "colorbar": {
              "outlinewidth": 0,
              "ticks": ""
             }
            },
            "type": "scatterpolar"
           }
          ],
          "scatterpolargl": [
           {
            "marker": {
             "colorbar": {
              "outlinewidth": 0,
              "ticks": ""
             }
            },
            "type": "scatterpolargl"
           }
          ],
          "scatterternary": [
           {
            "marker": {
             "colorbar": {
              "outlinewidth": 0,
              "ticks": ""
             }
            },
            "type": "scatterternary"
           }
          ],
          "surface": [
           {
            "colorbar": {
             "outlinewidth": 0,
             "ticks": ""
            },
            "colorscale": [
             [
              0,
              "#0d0887"
             ],
             [
              0.1111111111111111,
              "#46039f"
             ],
             [
              0.2222222222222222,
              "#7201a8"
             ],
             [
              0.3333333333333333,
              "#9c179e"
             ],
             [
              0.4444444444444444,
              "#bd3786"
             ],
             [
              0.5555555555555556,
              "#d8576b"
             ],
             [
              0.6666666666666666,
              "#ed7953"
             ],
             [
              0.7777777777777778,
              "#fb9f3a"
             ],
             [
              0.8888888888888888,
              "#fdca26"
             ],
             [
              1,
              "#f0f921"
             ]
            ],
            "type": "surface"
           }
          ],
          "table": [
           {
            "cells": {
             "fill": {
              "color": "#EBF0F8"
             },
             "line": {
              "color": "white"
             }
            },
            "header": {
             "fill": {
              "color": "#C8D4E3"
             },
             "line": {
              "color": "white"
             }
            },
            "type": "table"
           }
          ]
         },
         "layout": {
          "annotationdefaults": {
           "arrowcolor": "#2a3f5f",
           "arrowhead": 0,
           "arrowwidth": 1
          },
          "autotypenumbers": "strict",
          "coloraxis": {
           "colorbar": {
            "outlinewidth": 0,
            "ticks": ""
           }
          },
          "colorscale": {
           "diverging": [
            [
             0,
             "#8e0152"
            ],
            [
             0.1,
             "#c51b7d"
            ],
            [
             0.2,
             "#de77ae"
            ],
            [
             0.3,
             "#f1b6da"
            ],
            [
             0.4,
             "#fde0ef"
            ],
            [
             0.5,
             "#f7f7f7"
            ],
            [
             0.6,
             "#e6f5d0"
            ],
            [
             0.7,
             "#b8e186"
            ],
            [
             0.8,
             "#7fbc41"
            ],
            [
             0.9,
             "#4d9221"
            ],
            [
             1,
             "#276419"
            ]
           ],
           "sequential": [
            [
             0,
             "#0d0887"
            ],
            [
             0.1111111111111111,
             "#46039f"
            ],
            [
             0.2222222222222222,
             "#7201a8"
            ],
            [
             0.3333333333333333,
             "#9c179e"
            ],
            [
             0.4444444444444444,
             "#bd3786"
            ],
            [
             0.5555555555555556,
             "#d8576b"
            ],
            [
             0.6666666666666666,
             "#ed7953"
            ],
            [
             0.7777777777777778,
             "#fb9f3a"
            ],
            [
             0.8888888888888888,
             "#fdca26"
            ],
            [
             1,
             "#f0f921"
            ]
           ],
           "sequentialminus": [
            [
             0,
             "#0d0887"
            ],
            [
             0.1111111111111111,
             "#46039f"
            ],
            [
             0.2222222222222222,
             "#7201a8"
            ],
            [
             0.3333333333333333,
             "#9c179e"
            ],
            [
             0.4444444444444444,
             "#bd3786"
            ],
            [
             0.5555555555555556,
             "#d8576b"
            ],
            [
             0.6666666666666666,
             "#ed7953"
            ],
            [
             0.7777777777777778,
             "#fb9f3a"
            ],
            [
             0.8888888888888888,
             "#fdca26"
            ],
            [
             1,
             "#f0f921"
            ]
           ]
          },
          "colorway": [
           "#636efa",
           "#EF553B",
           "#00cc96",
           "#ab63fa",
           "#FFA15A",
           "#19d3f3",
           "#FF6692",
           "#B6E880",
           "#FF97FF",
           "#FECB52"
          ],
          "font": {
           "color": "#2a3f5f"
          },
          "geo": {
           "bgcolor": "white",
           "lakecolor": "white",
           "landcolor": "#E5ECF6",
           "showlakes": true,
           "showland": true,
           "subunitcolor": "white"
          },
          "hoverlabel": {
           "align": "left"
          },
          "hovermode": "closest",
          "mapbox": {
           "style": "light"
          },
          "paper_bgcolor": "white",
          "plot_bgcolor": "#E5ECF6",
          "polar": {
           "angularaxis": {
            "gridcolor": "white",
            "linecolor": "white",
            "ticks": ""
           },
           "bgcolor": "#E5ECF6",
           "radialaxis": {
            "gridcolor": "white",
            "linecolor": "white",
            "ticks": ""
           }
          },
          "scene": {
           "xaxis": {
            "backgroundcolor": "#E5ECF6",
            "gridcolor": "white",
            "gridwidth": 2,
            "linecolor": "white",
            "showbackground": true,
            "ticks": "",
            "zerolinecolor": "white"
           },
           "yaxis": {
            "backgroundcolor": "#E5ECF6",
            "gridcolor": "white",
            "gridwidth": 2,
            "linecolor": "white",
            "showbackground": true,
            "ticks": "",
            "zerolinecolor": "white"
           },
           "zaxis": {
            "backgroundcolor": "#E5ECF6",
            "gridcolor": "white",
            "gridwidth": 2,
            "linecolor": "white",
            "showbackground": true,
            "ticks": "",
            "zerolinecolor": "white"
           }
          },
          "shapedefaults": {
           "line": {
            "color": "#2a3f5f"
           }
          },
          "ternary": {
           "aaxis": {
            "gridcolor": "white",
            "linecolor": "white",
            "ticks": ""
           },
           "baxis": {
            "gridcolor": "white",
            "linecolor": "white",
            "ticks": ""
           },
           "bgcolor": "#E5ECF6",
           "caxis": {
            "gridcolor": "white",
            "linecolor": "white",
            "ticks": ""
           }
          },
          "title": {
           "x": 0.05
          },
          "xaxis": {
           "automargin": true,
           "gridcolor": "white",
           "linecolor": "white",
           "ticks": "",
           "title": {
            "standoff": 15
           },
           "zerolinecolor": "white",
           "zerolinewidth": 2
          },
          "yaxis": {
           "automargin": true,
           "gridcolor": "white",
           "linecolor": "white",
           "ticks": "",
           "title": {
            "standoff": 15
           },
           "zerolinecolor": "white",
           "zerolinewidth": 2
          }
         }
        },
        "title": {
         "text": "母亲职业重新编码饼图"
        }
       }
      }
     },
     "metadata": {},
     "output_type": "display_data"
    }
   ],
   "source": [
    "fig = px.pie(父母职业数据表, names='母亲职业重新编码', title='母亲职业重新编码饼图')\n",
    "fig.show()"
   ]
  },
  {
   "cell_type": "code",
   "execution_count": 12,
   "metadata": {},
   "outputs": [
    {
     "data": {
      "application/vnd.plotly.v1+json": {
       "config": {
        "plotlyServerURL": "https://plot.ly"
       },
       "data": [
        {
         "domain": {
          "x": [
           0,
           1
          ],
          "y": [
           0,
           1
          ]
         },
         "hovertemplate": "父亲职业重新编码=%{label}<extra></extra>",
         "labels": [
          "国企",
          "民企",
          "国企",
          "民企",
          "事业单位",
          "公务员",
          "个体",
          "个体",
          "国企",
          "民企",
          "公务员",
          "个体",
          "事业单位",
          "公务员",
          "个体",
          "个体",
          "公务员",
          "民企",
          "民企",
          "民企",
          "公务员",
          "民企",
          "公务员",
          "家庭主夫",
          "公务员",
          "个体",
          "公务员",
          "事业单位",
          "个体",
          "公务员",
          "家庭主夫",
          "公务员",
          "公务员",
          "公务员",
          "公务员",
          "民企",
          "国企",
          "个体",
          "公务员",
          "民企",
          "公务员",
          "公务员",
          "家庭主夫",
          "民企",
          "公务员",
          "公务员",
          "民企",
          "公务员",
          "公务员",
          "民企",
          "民企",
          "公务员"
         ],
         "legendgroup": "",
         "name": "",
         "showlegend": true,
         "type": "pie"
        }
       ],
       "layout": {
        "legend": {
         "tracegroupgap": 0
        },
        "template": {
         "data": {
          "bar": [
           {
            "error_x": {
             "color": "#2a3f5f"
            },
            "error_y": {
             "color": "#2a3f5f"
            },
            "marker": {
             "line": {
              "color": "#E5ECF6",
              "width": 0.5
             },
             "pattern": {
              "fillmode": "overlay",
              "size": 10,
              "solidity": 0.2
             }
            },
            "type": "bar"
           }
          ],
          "barpolar": [
           {
            "marker": {
             "line": {
              "color": "#E5ECF6",
              "width": 0.5
             },
             "pattern": {
              "fillmode": "overlay",
              "size": 10,
              "solidity": 0.2
             }
            },
            "type": "barpolar"
           }
          ],
          "carpet": [
           {
            "aaxis": {
             "endlinecolor": "#2a3f5f",
             "gridcolor": "white",
             "linecolor": "white",
             "minorgridcolor": "white",
             "startlinecolor": "#2a3f5f"
            },
            "baxis": {
             "endlinecolor": "#2a3f5f",
             "gridcolor": "white",
             "linecolor": "white",
             "minorgridcolor": "white",
             "startlinecolor": "#2a3f5f"
            },
            "type": "carpet"
           }
          ],
          "choropleth": [
           {
            "colorbar": {
             "outlinewidth": 0,
             "ticks": ""
            },
            "type": "choropleth"
           }
          ],
          "contour": [
           {
            "colorbar": {
             "outlinewidth": 0,
             "ticks": ""
            },
            "colorscale": [
             [
              0,
              "#0d0887"
             ],
             [
              0.1111111111111111,
              "#46039f"
             ],
             [
              0.2222222222222222,
              "#7201a8"
             ],
             [
              0.3333333333333333,
              "#9c179e"
             ],
             [
              0.4444444444444444,
              "#bd3786"
             ],
             [
              0.5555555555555556,
              "#d8576b"
             ],
             [
              0.6666666666666666,
              "#ed7953"
             ],
             [
              0.7777777777777778,
              "#fb9f3a"
             ],
             [
              0.8888888888888888,
              "#fdca26"
             ],
             [
              1,
              "#f0f921"
             ]
            ],
            "type": "contour"
           }
          ],
          "contourcarpet": [
           {
            "colorbar": {
             "outlinewidth": 0,
             "ticks": ""
            },
            "type": "contourcarpet"
           }
          ],
          "heatmap": [
           {
            "colorbar": {
             "outlinewidth": 0,
             "ticks": ""
            },
            "colorscale": [
             [
              0,
              "#0d0887"
             ],
             [
              0.1111111111111111,
              "#46039f"
             ],
             [
              0.2222222222222222,
              "#7201a8"
             ],
             [
              0.3333333333333333,
              "#9c179e"
             ],
             [
              0.4444444444444444,
              "#bd3786"
             ],
             [
              0.5555555555555556,
              "#d8576b"
             ],
             [
              0.6666666666666666,
              "#ed7953"
             ],
             [
              0.7777777777777778,
              "#fb9f3a"
             ],
             [
              0.8888888888888888,
              "#fdca26"
             ],
             [
              1,
              "#f0f921"
             ]
            ],
            "type": "heatmap"
           }
          ],
          "heatmapgl": [
           {
            "colorbar": {
             "outlinewidth": 0,
             "ticks": ""
            },
            "colorscale": [
             [
              0,
              "#0d0887"
             ],
             [
              0.1111111111111111,
              "#46039f"
             ],
             [
              0.2222222222222222,
              "#7201a8"
             ],
             [
              0.3333333333333333,
              "#9c179e"
             ],
             [
              0.4444444444444444,
              "#bd3786"
             ],
             [
              0.5555555555555556,
              "#d8576b"
             ],
             [
              0.6666666666666666,
              "#ed7953"
             ],
             [
              0.7777777777777778,
              "#fb9f3a"
             ],
             [
              0.8888888888888888,
              "#fdca26"
             ],
             [
              1,
              "#f0f921"
             ]
            ],
            "type": "heatmapgl"
           }
          ],
          "histogram": [
           {
            "marker": {
             "pattern": {
              "fillmode": "overlay",
              "size": 10,
              "solidity": 0.2
             }
            },
            "type": "histogram"
           }
          ],
          "histogram2d": [
           {
            "colorbar": {
             "outlinewidth": 0,
             "ticks": ""
            },
            "colorscale": [
             [
              0,
              "#0d0887"
             ],
             [
              0.1111111111111111,
              "#46039f"
             ],
             [
              0.2222222222222222,
              "#7201a8"
             ],
             [
              0.3333333333333333,
              "#9c179e"
             ],
             [
              0.4444444444444444,
              "#bd3786"
             ],
             [
              0.5555555555555556,
              "#d8576b"
             ],
             [
              0.6666666666666666,
              "#ed7953"
             ],
             [
              0.7777777777777778,
              "#fb9f3a"
             ],
             [
              0.8888888888888888,
              "#fdca26"
             ],
             [
              1,
              "#f0f921"
             ]
            ],
            "type": "histogram2d"
           }
          ],
          "histogram2dcontour": [
           {
            "colorbar": {
             "outlinewidth": 0,
             "ticks": ""
            },
            "colorscale": [
             [
              0,
              "#0d0887"
             ],
             [
              0.1111111111111111,
              "#46039f"
             ],
             [
              0.2222222222222222,
              "#7201a8"
             ],
             [
              0.3333333333333333,
              "#9c179e"
             ],
             [
              0.4444444444444444,
              "#bd3786"
             ],
             [
              0.5555555555555556,
              "#d8576b"
             ],
             [
              0.6666666666666666,
              "#ed7953"
             ],
             [
              0.7777777777777778,
              "#fb9f3a"
             ],
             [
              0.8888888888888888,
              "#fdca26"
             ],
             [
              1,
              "#f0f921"
             ]
            ],
            "type": "histogram2dcontour"
           }
          ],
          "mesh3d": [
           {
            "colorbar": {
             "outlinewidth": 0,
             "ticks": ""
            },
            "type": "mesh3d"
           }
          ],
          "parcoords": [
           {
            "line": {
             "colorbar": {
              "outlinewidth": 0,
              "ticks": ""
             }
            },
            "type": "parcoords"
           }
          ],
          "pie": [
           {
            "automargin": true,
            "type": "pie"
           }
          ],
          "scatter": [
           {
            "fillpattern": {
             "fillmode": "overlay",
             "size": 10,
             "solidity": 0.2
            },
            "type": "scatter"
           }
          ],
          "scatter3d": [
           {
            "line": {
             "colorbar": {
              "outlinewidth": 0,
              "ticks": ""
             }
            },
            "marker": {
             "colorbar": {
              "outlinewidth": 0,
              "ticks": ""
             }
            },
            "type": "scatter3d"
           }
          ],
          "scattercarpet": [
           {
            "marker": {
             "colorbar": {
              "outlinewidth": 0,
              "ticks": ""
             }
            },
            "type": "scattercarpet"
           }
          ],
          "scattergeo": [
           {
            "marker": {
             "colorbar": {
              "outlinewidth": 0,
              "ticks": ""
             }
            },
            "type": "scattergeo"
           }
          ],
          "scattergl": [
           {
            "marker": {
             "colorbar": {
              "outlinewidth": 0,
              "ticks": ""
             }
            },
            "type": "scattergl"
           }
          ],
          "scattermapbox": [
           {
            "marker": {
             "colorbar": {
              "outlinewidth": 0,
              "ticks": ""
             }
            },
            "type": "scattermapbox"
           }
          ],
          "scatterpolar": [
           {
            "marker": {
             "colorbar": {
              "outlinewidth": 0,
              "ticks": ""
             }
            },
            "type": "scatterpolar"
           }
          ],
          "scatterpolargl": [
           {
            "marker": {
             "colorbar": {
              "outlinewidth": 0,
              "ticks": ""
             }
            },
            "type": "scatterpolargl"
           }
          ],
          "scatterternary": [
           {
            "marker": {
             "colorbar": {
              "outlinewidth": 0,
              "ticks": ""
             }
            },
            "type": "scatterternary"
           }
          ],
          "surface": [
           {
            "colorbar": {
             "outlinewidth": 0,
             "ticks": ""
            },
            "colorscale": [
             [
              0,
              "#0d0887"
             ],
             [
              0.1111111111111111,
              "#46039f"
             ],
             [
              0.2222222222222222,
              "#7201a8"
             ],
             [
              0.3333333333333333,
              "#9c179e"
             ],
             [
              0.4444444444444444,
              "#bd3786"
             ],
             [
              0.5555555555555556,
              "#d8576b"
             ],
             [
              0.6666666666666666,
              "#ed7953"
             ],
             [
              0.7777777777777778,
              "#fb9f3a"
             ],
             [
              0.8888888888888888,
              "#fdca26"
             ],
             [
              1,
              "#f0f921"
             ]
            ],
            "type": "surface"
           }
          ],
          "table": [
           {
            "cells": {
             "fill": {
              "color": "#EBF0F8"
             },
             "line": {
              "color": "white"
             }
            },
            "header": {
             "fill": {
              "color": "#C8D4E3"
             },
             "line": {
              "color": "white"
             }
            },
            "type": "table"
           }
          ]
         },
         "layout": {
          "annotationdefaults": {
           "arrowcolor": "#2a3f5f",
           "arrowhead": 0,
           "arrowwidth": 1
          },
          "autotypenumbers": "strict",
          "coloraxis": {
           "colorbar": {
            "outlinewidth": 0,
            "ticks": ""
           }
          },
          "colorscale": {
           "diverging": [
            [
             0,
             "#8e0152"
            ],
            [
             0.1,
             "#c51b7d"
            ],
            [
             0.2,
             "#de77ae"
            ],
            [
             0.3,
             "#f1b6da"
            ],
            [
             0.4,
             "#fde0ef"
            ],
            [
             0.5,
             "#f7f7f7"
            ],
            [
             0.6,
             "#e6f5d0"
            ],
            [
             0.7,
             "#b8e186"
            ],
            [
             0.8,
             "#7fbc41"
            ],
            [
             0.9,
             "#4d9221"
            ],
            [
             1,
             "#276419"
            ]
           ],
           "sequential": [
            [
             0,
             "#0d0887"
            ],
            [
             0.1111111111111111,
             "#46039f"
            ],
            [
             0.2222222222222222,
             "#7201a8"
            ],
            [
             0.3333333333333333,
             "#9c179e"
            ],
            [
             0.4444444444444444,
             "#bd3786"
            ],
            [
             0.5555555555555556,
             "#d8576b"
            ],
            [
             0.6666666666666666,
             "#ed7953"
            ],
            [
             0.7777777777777778,
             "#fb9f3a"
            ],
            [
             0.8888888888888888,
             "#fdca26"
            ],
            [
             1,
             "#f0f921"
            ]
           ],
           "sequentialminus": [
            [
             0,
             "#0d0887"
            ],
            [
             0.1111111111111111,
             "#46039f"
            ],
            [
             0.2222222222222222,
             "#7201a8"
            ],
            [
             0.3333333333333333,
             "#9c179e"
            ],
            [
             0.4444444444444444,
             "#bd3786"
            ],
            [
             0.5555555555555556,
             "#d8576b"
            ],
            [
             0.6666666666666666,
             "#ed7953"
            ],
            [
             0.7777777777777778,
             "#fb9f3a"
            ],
            [
             0.8888888888888888,
             "#fdca26"
            ],
            [
             1,
             "#f0f921"
            ]
           ]
          },
          "colorway": [
           "#636efa",
           "#EF553B",
           "#00cc96",
           "#ab63fa",
           "#FFA15A",
           "#19d3f3",
           "#FF6692",
           "#B6E880",
           "#FF97FF",
           "#FECB52"
          ],
          "font": {
           "color": "#2a3f5f"
          },
          "geo": {
           "bgcolor": "white",
           "lakecolor": "white",
           "landcolor": "#E5ECF6",
           "showlakes": true,
           "showland": true,
           "subunitcolor": "white"
          },
          "hoverlabel": {
           "align": "left"
          },
          "hovermode": "closest",
          "mapbox": {
           "style": "light"
          },
          "paper_bgcolor": "white",
          "plot_bgcolor": "#E5ECF6",
          "polar": {
           "angularaxis": {
            "gridcolor": "white",
            "linecolor": "white",
            "ticks": ""
           },
           "bgcolor": "#E5ECF6",
           "radialaxis": {
            "gridcolor": "white",
            "linecolor": "white",
            "ticks": ""
           }
          },
          "scene": {
           "xaxis": {
            "backgroundcolor": "#E5ECF6",
            "gridcolor": "white",
            "gridwidth": 2,
            "linecolor": "white",
            "showbackground": true,
            "ticks": "",
            "zerolinecolor": "white"
           },
           "yaxis": {
            "backgroundcolor": "#E5ECF6",
            "gridcolor": "white",
            "gridwidth": 2,
            "linecolor": "white",
            "showbackground": true,
            "ticks": "",
            "zerolinecolor": "white"
           },
           "zaxis": {
            "backgroundcolor": "#E5ECF6",
            "gridcolor": "white",
            "gridwidth": 2,
            "linecolor": "white",
            "showbackground": true,
            "ticks": "",
            "zerolinecolor": "white"
           }
          },
          "shapedefaults": {
           "line": {
            "color": "#2a3f5f"
           }
          },
          "ternary": {
           "aaxis": {
            "gridcolor": "white",
            "linecolor": "white",
            "ticks": ""
           },
           "baxis": {
            "gridcolor": "white",
            "linecolor": "white",
            "ticks": ""
           },
           "bgcolor": "#E5ECF6",
           "caxis": {
            "gridcolor": "white",
            "linecolor": "white",
            "ticks": ""
           }
          },
          "title": {
           "x": 0.05
          },
          "xaxis": {
           "automargin": true,
           "gridcolor": "white",
           "linecolor": "white",
           "ticks": "",
           "title": {
            "standoff": 15
           },
           "zerolinecolor": "white",
           "zerolinewidth": 2
          },
          "yaxis": {
           "automargin": true,
           "gridcolor": "white",
           "linecolor": "white",
           "ticks": "",
           "title": {
            "standoff": 15
           },
           "zerolinecolor": "white",
           "zerolinewidth": 2
          }
         }
        },
        "title": {
         "text": "父亲职业重新编码饼图"
        }
       }
      }
     },
     "metadata": {},
     "output_type": "display_data"
    }
   ],
   "source": [
    "fig = px.pie(父母职业数据表, names='父亲职业重新编码', title='父亲职业重新编码饼图')\n",
    "fig.show()"
   ]
  },
  {
   "cell_type": "code",
   "execution_count": 14,
   "metadata": {},
   "outputs": [
    {
     "name": "stdout",
     "output_type": "stream",
     "text": [
      "0.18779899056396734\n"
     ]
    },
    {
     "name": "stderr",
     "output_type": "stream",
     "text": [
      "c:\\Users\\lenovo\\Desktop\\tyujio9007\\mytools.py:62: FutureWarning:\n",
      "\n",
      "Series.__getitem__ treating keys as positions is deprecated. In a future version, integer keys will always be treated as labels (consistent with DataFrame behavior). To access a value by position, use `ser.iloc[pos]`\n",
      "\n"
     ]
    },
    {
     "data": {
      "text/plain": [
       "'极弱相关或无相关'"
      ]
     },
     "execution_count": 14,
     "metadata": {},
     "output_type": "execute_result"
    }
   ],
   "source": [
    "import mytools\n",
    "tau_y = mytools.goodmanKruska_tau_y(父母职业数据表,'父亲职业重新编码' ,'母亲职业重新编码')\n",
    "print(tau_y)\n",
    "mytools.相关系数判断(tau_y)"
   ]
  },
  {
   "cell_type": "code",
   "execution_count": 13,
   "metadata": {},
   "outputs": [
    {
     "name": "stdout",
     "output_type": "stream",
     "text": [
      "tau_y系数: 0.1878 极弱相关或无相关\n",
      "母亲职业重新编码      上市民企        个体      事业单位       公务员        国企      家庭主妇  \\\n",
      "父亲职业重新编码                                                               \n",
      "个体        0.000000  0.076923  0.000000  0.000000  0.000000  0.076923   \n",
      "事业单位      0.000000  0.000000  0.019231  0.038462  0.000000  0.000000   \n",
      "公务员       0.000000  0.038462  0.096154  0.192308  0.019231  0.000000   \n",
      "国企        0.000000  0.019231  0.000000  0.000000  0.019231  0.019231   \n",
      "家庭主夫      0.000000  0.000000  0.019231  0.000000  0.000000  0.038462   \n",
      "民企        0.019231  0.057692  0.019231  0.038462  0.000000  0.096154   \n",
      "All       0.019231  0.192308  0.153846  0.269231  0.038462  0.230769   \n",
      "\n",
      "母亲职业重新编码        民企       All  \n",
      "父亲职业重新编码                      \n",
      "个体        0.000000  0.153846  \n",
      "事业单位      0.000000  0.057692  \n",
      "公务员       0.057692  0.403846  \n",
      "国企        0.019231  0.076923  \n",
      "家庭主夫      0.000000  0.057692  \n",
      "民企        0.019231  0.250000  \n",
      "All       0.096154  1.000000  \n",
      "卡方值： 44.10, p值： 0.0467,自由度:30。\n",
      "拒绝虚无假设\n"
     ]
    },
    {
     "name": "stderr",
     "output_type": "stream",
     "text": [
      "c:\\Users\\lenovo\\Desktop\\tyujio9007\\output\\mytools.py:62: FutureWarning:\n",
      "\n",
      "Series.__getitem__ treating keys as positions is deprecated. In a future version, integer keys will always be treated as labels (consistent with DataFrame behavior). To access a value by position, use `ser.iloc[pos]`\n",
      "\n"
     ]
    }
   ],
   "source": [
    "mytools.两个无序类别变量的统计分析(数据表,'父亲职业重新编码','母亲职业重新编码')"
   ]
  },
  {
   "cell_type": "code",
   "execution_count": 17,
   "metadata": {},
   "outputs": [
    {
     "name": "stdout",
     "output_type": "stream",
     "text": [
      "父母职业的相关系数：0.09462935408209647\n"
     ]
    }
   ],
   "source": [
    "# 相关系数计算与解释\n",
    "correlation = data['父亲职业重新编码'].astype('category').cat.codes.corr(data['母亲职业重新编码'].astype('category').cat.codes)\n",
    "print(f\"父母职业的相关系数：{correlation}\")"
   ]
  },
  {
   "cell_type": "code",
   "execution_count": 18,
   "metadata": {},
   "outputs": [
    {
     "name": "stdout",
     "output_type": "stream",
     "text": [
      "微弱相关或不相关\n"
     ]
    }
   ],
   "source": [
    "# 根据相关系数的强弱做出定性判断\n",
    "if tau_y > 0.56:\n",
    "    print(\"高度相关\")\n",
    "elif tau_y > 0.25:\n",
    "    print(\"中度相关\")\n",
    "elif tau_y > 0.26:\n",
    "    print(\"低度相关\")\n",
    "else:\n",
    "    print(\"微弱相关或不相关\")"
   ]
  }
 ],
 "metadata": {
  "kernelspec": {
   "display_name": "Python 3",
   "language": "python",
   "name": "python3"
  },
  "language_info": {
   "codemirror_mode": {
    "name": "ipython",
    "version": 3
   },
   "file_extension": ".py",
   "mimetype": "text/x-python",
   "name": "python",
   "nbconvert_exporter": "python",
   "pygments_lexer": "ipython3",
   "version": "3.10.8"
  }
 },
 "nbformat": 4,
 "nbformat_minor": 2
}
