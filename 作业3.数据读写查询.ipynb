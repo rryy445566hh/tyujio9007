{
 "cells": [
  {
   "cell_type": "code",
   "execution_count": 3,
   "metadata": {},
   "outputs": [],
   "source": [
    "import pandas as pd"
   ]
  },
  {
   "cell_type": "code",
   "execution_count": 4,
   "metadata": {},
   "outputs": [],
   "source": [
    "\n",
    "import pandas as pd\n",
    "\n",
    "作业提交信息 = pd.read_csv(R'C:\\Users\\lenovo\\Desktop\\tyujio9007\\data\\第一次作业提交信息.csv', encoding='GBK', usecols=['姓名','学号','Github仓库地址'])\n"
   ]
  },
  {
   "cell_type": "code",
   "execution_count": 3,
   "metadata": {},
   "outputs": [],
   "source": [
    "作业提交信息.to_csv(R'csv读写结果.csv',index=False)"
   ]
  },
  {
   "cell_type": "code",
   "execution_count": 18,
   "metadata": {},
   "outputs": [],
   "source": [
    "import pandas as pd\n",
    "import os \n",
    "# 读取Excel文件\n",
    "原始数据 = R'C:\\Users\\lenovo\\Desktop\\tyujio9007\\data\\000_《统计与数据分析》课程第一次作业收集_提交统计.xlsx'\n",
    "工作表 = '提交清单'  # 替换为你要读取的工作表名称\n",
    "列名列表 = ['姓名', '学号', 'Github仓库地址']  # 替换为你要读取的列名列表\n",
    "\n",
    "# 读取指定列数据\n",
    "df1 = pd.read_excel(原始数据, sheet_name=工作表, usecols=列名列表)\n"
   ]
  },
  {
   "cell_type": "code",
   "execution_count": 5,
   "metadata": {},
   "outputs": [],
   "source": [
    "df1.to_excel('outputexcel写入练习.xlsx', index=False)\n"
   ]
  },
  {
   "cell_type": "code",
   "execution_count": 6,
   "metadata": {},
   "outputs": [],
   "source": [
    "#读写spss的sav格式数据\n",
    "df2 = pd.read_spss(R'C:\\Users\\lenovo\\Desktop\\tyujio9007\\data\\identity.sav')"
   ]
  },
  {
   "cell_type": "code",
   "execution_count": 7,
   "metadata": {},
   "outputs": [],
   "source": [
    "import pyreadstat"
   ]
  },
  {
   "cell_type": "code",
   "execution_count": 8,
   "metadata": {},
   "outputs": [],
   "source": [
    "df3,mata  = pyreadstat.read_sav(R'C:\\Users\\lenovo\\Desktop\\tyujio9007\\data\\identity.sav',formats_as_ordered_category = True)"
   ]
  },
  {
   "cell_type": "code",
   "execution_count": 20,
   "metadata": {},
   "outputs": [],
   "source": [
    "#读取ptf中的表格数据\n",
    "import pdfplumber\n",
    "table = []\n",
    "\n",
    "pdf = pdfplumber.open(R'C:\\Users\\lenovo\\Desktop\\tyujio9007\\data\\高考核心词汇1278.pdf')\n",
    "for i in  range(len(pdf.pages)-1):\n",
    "    page = pdf.pages[i+1]\n",
    "    table.extend(page.extract_table())\n",
    "table_df = pd.DataFrame(table[2:])"
   ]
  }
 ],
 "metadata": {
  "kernelspec": {
   "display_name": "Python 3.10.8 64-bit",
   "language": "python",
   "name": "python3"
  },
  "language_info": {
   "codemirror_mode": {
    "name": "ipython",
    "version": 3
   },
   "file_extension": ".py",
   "mimetype": "text/x-python",
   "name": "python",
   "nbconvert_exporter": "python",
   "pygments_lexer": "ipython3",
   "version": "3.10.8"
  },
  "orig_nbformat": 4,
  "vscode": {
   "interpreter": {
    "hash": "26de051ba29f2982a8de78e945f0abaf191376122a1563185a90213a26c5da77"
   }
  }
 },
 "nbformat": 4,
 "nbformat_minor": 2
}
